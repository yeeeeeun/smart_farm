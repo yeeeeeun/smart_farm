{
  "cells": [
    {
      "cell_type": "markdown",
      "metadata": {
        "id": "view-in-github",
        "colab_type": "text"
      },
      "source": [
        "<a href=\"https://colab.research.google.com/github/yeeeeeun/smart_farm/blob/main/%EC%96%91%EC%95%A1_%EC%B6%94%EC%B2%9C_%EB%AA%A8%EB%8D%B8.ipynb\" target=\"_parent\"><img src=\"https://colab.research.google.com/assets/colab-badge.svg\" alt=\"Open In Colab\"/></a>"
      ]
    },
    {
      "cell_type": "markdown",
      "metadata": {
        "id": "LIkghzWW8C0F"
      },
      "source": [
        "## 데이터 전처리 (파일 합치기)"
      ]
    },
    {
      "cell_type": "code",
      "source": [
        "!pip install koreanize-matplotlib"
      ],
      "metadata": {
        "colab": {
          "base_uri": "https://localhost:8080/"
        },
        "id": "0_FC9KtPmMlQ",
        "outputId": "6289d8f7-c9e4-4a64-906a-933e78c01e81"
      },
      "execution_count": null,
      "outputs": [
        {
          "output_type": "stream",
          "name": "stdout",
          "text": [
            "Collecting koreanize-matplotlib\n",
            "  Downloading koreanize_matplotlib-0.1.1-py3-none-any.whl (7.9 MB)\n",
            "\u001b[2K     \u001b[90m━━━━━━━━━━━━━━━━━━━━━━━━━━━━━━━━━━━━━━━━\u001b[0m \u001b[32m7.9/7.9 MB\u001b[0m \u001b[31m15.7 MB/s\u001b[0m eta \u001b[36m0:00:00\u001b[0m\n",
            "\u001b[?25hRequirement already satisfied: matplotlib in /usr/local/lib/python3.10/dist-packages (from koreanize-matplotlib) (3.7.1)\n",
            "Requirement already satisfied: contourpy>=1.0.1 in /usr/local/lib/python3.10/dist-packages (from matplotlib->koreanize-matplotlib) (1.2.1)\n",
            "Requirement already satisfied: cycler>=0.10 in /usr/local/lib/python3.10/dist-packages (from matplotlib->koreanize-matplotlib) (0.12.1)\n",
            "Requirement already satisfied: fonttools>=4.22.0 in /usr/local/lib/python3.10/dist-packages (from matplotlib->koreanize-matplotlib) (4.53.1)\n",
            "Requirement already satisfied: kiwisolver>=1.0.1 in /usr/local/lib/python3.10/dist-packages (from matplotlib->koreanize-matplotlib) (1.4.5)\n",
            "Requirement already satisfied: numpy>=1.20 in /usr/local/lib/python3.10/dist-packages (from matplotlib->koreanize-matplotlib) (1.25.2)\n",
            "Requirement already satisfied: packaging>=20.0 in /usr/local/lib/python3.10/dist-packages (from matplotlib->koreanize-matplotlib) (24.1)\n",
            "Requirement already satisfied: pillow>=6.2.0 in /usr/local/lib/python3.10/dist-packages (from matplotlib->koreanize-matplotlib) (9.4.0)\n",
            "Requirement already satisfied: pyparsing>=2.3.1 in /usr/local/lib/python3.10/dist-packages (from matplotlib->koreanize-matplotlib) (3.1.2)\n",
            "Requirement already satisfied: python-dateutil>=2.7 in /usr/local/lib/python3.10/dist-packages (from matplotlib->koreanize-matplotlib) (2.8.2)\n",
            "Requirement already satisfied: six>=1.5 in /usr/local/lib/python3.10/dist-packages (from python-dateutil>=2.7->matplotlib->koreanize-matplotlib) (1.16.0)\n",
            "Installing collected packages: koreanize-matplotlib\n",
            "Successfully installed koreanize-matplotlib-0.1.1\n"
          ]
        }
      ]
    },
    {
      "cell_type": "code",
      "execution_count": null,
      "metadata": {
        "id": "TNBXX5h9dA8I"
      },
      "outputs": [],
      "source": [
        "import pandas as pd\n",
        "import os\n",
        "\n",
        "directory = '/content/drive/MyDrive/루켄_프로젝트/농촌진흥청_최적환경설정_칼럼추가'\n",
        "\n",
        "dfs = []\n",
        "\n",
        "for filename in os.listdir(directory):\n",
        "    if filename.endswith(\".xlsx\") or filename.endswith(\".xls\"):\n",
        "        filepath = os.path.join(directory, filename)\n",
        "        df = pd.read_excel(filepath)\n",
        "        dfs.append(df)\n",
        "\n",
        "combined_df = pd.concat(dfs, ignore_index=True)\n",
        "\n",
        "combined_df.to_excel('combined_file.xlsx', index=False)"
      ]
    },
    {
      "cell_type": "code",
      "execution_count": null,
      "metadata": {
        "id": "LkYcYZpeewIa"
      },
      "outputs": [],
      "source": [
        "import pandas as pd\n",
        "combined_df = pd.read_excel('combined_file.xlsx')\n",
        "\n",
        "combined_df.to_csv('f_combined_file.csv', index=False)\n"
      ]
    },
    {
      "cell_type": "code",
      "execution_count": null,
      "metadata": {
        "colab": {
          "base_uri": "https://localhost:8080/"
        },
        "id": "-H7OGN8fgPSV",
        "outputId": "7667f9f7-6767-4b3a-842d-1d94e708bd97"
      },
      "outputs": [
        {
          "output_type": "stream",
          "name": "stdout",
          "text": [
            "  누적일사량(J/㎠/day) 외기기온   (℃)    생산량  초장  (㎝)  엽수  (개)  관부직경(㎜)  일일 평균온도(℃)  \\\n",
            "0      970~1,630   9.0~26.2  178.0     36.6      7.3     16.0        15.8   \n",
            "1      970~1,630   9.0~26.2   96.0     33.3      7.8     15.3        16.2   \n",
            "2      970~1,630   9.0~26.2   29.0     25.6      6.2     13.5        16.1   \n",
            "3      970~1,630    4.3~9.0   96.0     29.2      6.8     18.2        14.3   \n",
            "4      970~1,630    4.3~9.0   23.0     25.1     10.2     16.6        14.5   \n",
            "\n",
            "   주간 평균온도(℃)  야간 평균온도(℃)  새벽온도(℃) 배지온도(℃) 주간 평균습도(%) 주간 평균잔존CO₂(ppm)  \\\n",
            "0        21.0        12.1     12.7       -       63.8             423   \n",
            "1        19.8        13.1     12.5    15.5       74.1             522   \n",
            "2        21.5        11.6     10.3    16.1       75.5             407   \n",
            "3        18.2        11.7     11.3    13.7       70.0             572   \n",
            "4        20.2        10.0      8.9    14.8       67.6             377   \n",
            "\n",
            "  급액 EC(dS/m) 급액 pH 1회 급액량(㏄/day)       생육단계  정식후 평균 1화방 출뢰일수  \n",
            "0        1.34  5.70           211  생육중기(12월)              NaN  \n",
            "1        1.17  5.78           267  생육중기(12월)              NaN  \n",
            "2        0.92  5.79           222  생육중기(12월)              NaN  \n",
            "3        0.80  5.80           180  생육중기(12월)              NaN  \n",
            "4        0.97  5.96           138  생육중기(12월)              NaN  \n"
          ]
        }
      ],
      "source": [
        "import pandas as pd\n",
        "\n",
        "df = pd.read_csv('f_combined_file.csv')\n",
        "\n",
        "print(df.head())\n"
      ]
    },
    {
      "cell_type": "code",
      "execution_count": null,
      "metadata": {
        "colab": {
          "base_uri": "https://localhost:8080/"
        },
        "id": "WHppiEhQhGQL",
        "outputId": "4ec41047-4683-4d9f-a1e1-4a823bbadfde"
      },
      "outputs": [
        {
          "output_type": "execute_result",
          "data": {
            "text/plain": [
              "Index(['누적일사량(J/㎠/day)', '외기기온   (℃)', '생산량', '초장  (㎝)', '엽수  (개)', '관부직경(㎜)',\n",
              "       '일일 평균온도(℃)', '주간 평균온도(℃)', '야간 평균온도(℃)', '새벽온도(℃)', '배지온도(℃)',\n",
              "       '주간 평균습도(%)', '주간 평균잔존CO₂(ppm)', '급액 EC(dS/m)', '급액 pH',\n",
              "       '1회 급액량(㏄/day)', '생육단계', '정식후 평균 1화방 출뢰일수'],\n",
              "      dtype='object')"
            ]
          },
          "metadata": {},
          "execution_count": 72
        }
      ],
      "source": [
        "df.columns"
      ]
    },
    {
      "cell_type": "code",
      "execution_count": null,
      "metadata": {
        "colab": {
          "base_uri": "https://localhost:8080/"
        },
        "id": "Tyqso_Ycify_",
        "outputId": "ef4af671-bb53-4e2e-9a56-3379da7556fe"
      },
      "outputs": [
        {
          "output_type": "stream",
          "name": "stdout",
          "text": [
            "Index(['누적일사량(J/㎠/day)', '외기기온   (℃)', '생산량', '초장  (㎝)', '엽수  (개)', '관부직경(㎜)',\n",
            "       '일일 평균온도(℃)', '주간 평균온도(℃)', '야간 평균온도(℃)', '새벽온도(℃)', '배지온도(℃)',\n",
            "       '주간 평균습도(%)', '주간 평균잔존CO₂(ppm)', '급액 EC(dS/m)', '급액 pH',\n",
            "       '1회 급액량(㏄/day)', '생육단계', '정식후 평균 1화방 출뢰일수'],\n",
            "      dtype='object')\n"
          ]
        }
      ],
      "source": [
        "\n",
        "df.columns = df.columns.str.strip()\n",
        "\n",
        "print(df.columns)\n"
      ]
    },
    {
      "cell_type": "markdown",
      "metadata": {
        "id": "wAB4wvPq8Jme"
      },
      "source": [
        "## 데이터 전처리 (파일 이름 바꾸기 + 필요 칼럼 추출)"
      ]
    },
    {
      "cell_type": "code",
      "execution_count": null,
      "metadata": {
        "id": "PNaUQfN3hBie"
      },
      "outputs": [],
      "source": [
        "new_df = df[['초장\\xa0\\xa0(㎝)', '엽수\\xa0\\xa0(개)', '관부직경(㎜)','일일 평균온도(℃)', '급액 EC(dS/m)', '급액 pH',\n",
        "       '1회 급액량(㏄/day)', '생육단계']]"
      ]
    },
    {
      "cell_type": "code",
      "execution_count": null,
      "metadata": {
        "id": "V5PgFs8fjmeD"
      },
      "outputs": [],
      "source": [
        "new_df.rename(columns={\n",
        "    '초장\\xa0\\xa0(㎝)': 'stem_length',\n",
        "    '엽수\\xa0\\xa0(개)': 'leaf_cnt',\n",
        "    '관부직경(㎜)': 'stem_thick',\n",
        "    '일일 평균온도(℃)': 'ti_value',\n",
        "    '급액 EC(dS/m)': 'ec_value',\n",
        "    '급액 pH': 'ph_value',\n",
        "    '1회 급액량(㏄/day)': 'amount_value',\n",
        "    '생육단계' : 'growth_state'\n",
        "}, inplace=True)"
      ]
    },
    {
      "cell_type": "code",
      "execution_count": null,
      "metadata": {
        "id": "UauADMRQiEu4"
      },
      "outputs": [],
      "source": [
        "new_df.info()"
      ]
    },
    {
      "cell_type": "code",
      "execution_count": null,
      "metadata": {
        "id": "wu1K7-lDjgt0"
      },
      "outputs": [],
      "source": [
        "new_df.head()"
      ]
    },
    {
      "cell_type": "markdown",
      "source": [
        "## 데이터 전처리 (null data \"-\" + 형변환)"
      ],
      "metadata": {
        "id": "_xV5mA_YR994"
      }
    },
    {
      "cell_type": "code",
      "execution_count": null,
      "metadata": {
        "id": "aov1NxeFkUJS",
        "colab": {
          "base_uri": "https://localhost:8080/"
        },
        "outputId": "486f7003-5554-4e85-c450-7c8633e833a8"
      },
      "outputs": [
        {
          "output_type": "execute_result",
          "data": {
            "text/plain": [
              "stem_length     0\n",
              "leaf_cnt        0\n",
              "stem_thick      0\n",
              "ti_value        0\n",
              "ec_value        0\n",
              "ph_value        0\n",
              "amount_value    0\n",
              "growth_state    0\n",
              "dtype: int64"
            ]
          },
          "metadata": {},
          "execution_count": 78
        }
      ],
      "source": [
        "new_df.isna().sum()"
      ]
    },
    {
      "cell_type": "code",
      "source": [
        "import numpy as np\n",
        "new_df.replace('-', np.nan, inplace = True)"
      ],
      "metadata": {
        "id": "IpZI_M2UP6JN"
      },
      "execution_count": null,
      "outputs": []
    },
    {
      "cell_type": "code",
      "source": [
        "new_df.isna().sum()"
      ],
      "metadata": {
        "colab": {
          "base_uri": "https://localhost:8080/"
        },
        "id": "vNP6umyjSVil",
        "outputId": "f08b8249-a2f3-4ec9-c02b-1982ac95cf99"
      },
      "execution_count": null,
      "outputs": [
        {
          "output_type": "execute_result",
          "data": {
            "text/plain": [
              "stem_length      0\n",
              "leaf_cnt         0\n",
              "stem_thick       0\n",
              "ti_value         0\n",
              "ec_value         8\n",
              "ph_value         8\n",
              "amount_value    14\n",
              "growth_state     0\n",
              "dtype: int64"
            ]
          },
          "metadata": {},
          "execution_count": 80
        }
      ]
    },
    {
      "cell_type": "code",
      "source": [
        "new_df.dropna(axis=0, inplace=True)\n",
        "new_df.isna().sum()"
      ],
      "metadata": {
        "colab": {
          "base_uri": "https://localhost:8080/"
        },
        "id": "k1kJYCdASciU",
        "outputId": "572d5990-3248-42b4-9b6c-df23d7d30be8"
      },
      "execution_count": null,
      "outputs": [
        {
          "output_type": "execute_result",
          "data": {
            "text/plain": [
              "stem_length     0\n",
              "leaf_cnt        0\n",
              "stem_thick      0\n",
              "ti_value        0\n",
              "ec_value        0\n",
              "ph_value        0\n",
              "amount_value    0\n",
              "growth_state    0\n",
              "dtype: int64"
            ]
          },
          "metadata": {},
          "execution_count": 81
        }
      ]
    },
    {
      "cell_type": "code",
      "source": [
        "new_df.info()"
      ],
      "metadata": {
        "colab": {
          "base_uri": "https://localhost:8080/"
        },
        "id": "OGLRweidS08_",
        "outputId": "5a9cb2c8-5a4d-4839-be53-d78cce1364ea"
      },
      "execution_count": null,
      "outputs": [
        {
          "output_type": "stream",
          "name": "stdout",
          "text": [
            "<class 'pandas.core.frame.DataFrame'>\n",
            "Index: 180 entries, 0 to 195\n",
            "Data columns (total 8 columns):\n",
            " #   Column        Non-Null Count  Dtype  \n",
            "---  ------        --------------  -----  \n",
            " 0   stem_length   180 non-null    float64\n",
            " 1   leaf_cnt      180 non-null    float64\n",
            " 2   stem_thick    180 non-null    float64\n",
            " 3   ti_value      180 non-null    float64\n",
            " 4   ec_value      180 non-null    object \n",
            " 5   ph_value      180 non-null    object \n",
            " 6   amount_value  180 non-null    object \n",
            " 7   growth_state  180 non-null    object \n",
            "dtypes: float64(4), object(4)\n",
            "memory usage: 12.7+ KB\n"
          ]
        }
      ]
    },
    {
      "cell_type": "code",
      "source": [
        "\n",
        "new_df['ec_value'] = new_df['ec_value'].astype('float')\n",
        "new_df['ph_value'] = new_df['ph_value'].astype('float')\n",
        "new_df['amount_value'] = new_df['amount_value'].astype('float')\n",
        "new_df.info()"
      ],
      "metadata": {
        "colab": {
          "base_uri": "https://localhost:8080/"
        },
        "id": "kBfnPHrCSvNA",
        "outputId": "5d5b9768-c2a1-44d9-bc59-2a431347a526"
      },
      "execution_count": null,
      "outputs": [
        {
          "output_type": "stream",
          "name": "stdout",
          "text": [
            "<class 'pandas.core.frame.DataFrame'>\n",
            "Index: 180 entries, 0 to 195\n",
            "Data columns (total 8 columns):\n",
            " #   Column        Non-Null Count  Dtype  \n",
            "---  ------        --------------  -----  \n",
            " 0   stem_length   180 non-null    float64\n",
            " 1   leaf_cnt      180 non-null    float64\n",
            " 2   stem_thick    180 non-null    float64\n",
            " 3   ti_value      180 non-null    float64\n",
            " 4   ec_value      180 non-null    float64\n",
            " 5   ph_value      180 non-null    float64\n",
            " 6   amount_value  180 non-null    float64\n",
            " 7   growth_state  180 non-null    object \n",
            "dtypes: float64(7), object(1)\n",
            "memory usage: 12.7+ KB\n"
          ]
        }
      ]
    },
    {
      "cell_type": "code",
      "source": [
        "\n",
        "print(new_df['growth_state'].unique())"
      ],
      "metadata": {
        "colab": {
          "base_uri": "https://localhost:8080/"
        },
        "id": "Lud49gkMjaze",
        "outputId": "de98e044-47d1-49e7-93b4-1b01d5969a97"
      },
      "execution_count": null,
      "outputs": [
        {
          "output_type": "stream",
          "name": "stdout",
          "text": [
            "['생육중기(12월)' '생육말기(4~5월)' '생육중기(3월)' '1화방_출뢰기' '생육중기(1월)' '생육중기(2월)'\n",
            " '1화방_첫수확기']\n"
          ]
        }
      ]
    },
    {
      "cell_type": "code",
      "source": [
        "\n",
        "state_mapping = {\n",
        "    '1화방_출뢰기': 1,\n",
        "    '1화방_첫수확기': 2,\n",
        "    '생육중기(12월)': 3,\n",
        "    '생육중기(1월)': 4,\n",
        "    '생육중기(2월)' : 5,\n",
        "    '생육중기(3월)': 6,\n",
        "    '생육말기(4~5월)': 7,\n",
        "}\n",
        "\n",
        "new_df['growth_state'] = new_df['growth_state'].map(state_mapping)\n",
        "\n",
        "print(new_df.head())\n"
      ],
      "metadata": {
        "colab": {
          "base_uri": "https://localhost:8080/"
        },
        "id": "860Ywq6vjkoF",
        "outputId": "009a9856-3126-438d-f4d8-e15b23ce24a0"
      },
      "execution_count": null,
      "outputs": [
        {
          "output_type": "stream",
          "name": "stdout",
          "text": [
            "   stem_length  leaf_cnt  stem_thick  ti_value  ec_value  ph_value  \\\n",
            "0         36.6       7.3        16.0      15.8      1.34      5.70   \n",
            "1         33.3       7.8        15.3      16.2      1.17      5.78   \n",
            "2         25.6       6.2        13.5      16.1      0.92      5.79   \n",
            "3         29.2       6.8        18.2      14.3      0.80      5.80   \n",
            "4         25.1      10.2        16.6      14.5      0.97      5.96   \n",
            "\n",
            "   amount_value  growth_state  \n",
            "0         211.0             3  \n",
            "1         267.0             3  \n",
            "2         222.0             3  \n",
            "3         180.0             3  \n",
            "4         138.0             3  \n"
          ]
        }
      ]
    },
    {
      "cell_type": "markdown",
      "source": [
        "## K-means"
      ],
      "metadata": {
        "id": "LZWf_540XpbC"
      }
    },
    {
      "cell_type": "code",
      "source": [
        "X = new_df.copy()\n",
        "X = X.drop(['growth_state'], axis=1)\n",
        "X.shape"
      ],
      "metadata": {
        "colab": {
          "base_uri": "https://localhost:8080/"
        },
        "id": "rmKQcA3VYhdL",
        "outputId": "ae5b3d46-1798-4f0e-e348-762db4a105cc"
      },
      "execution_count": null,
      "outputs": [
        {
          "output_type": "execute_result",
          "data": {
            "text/plain": [
              "(180, 7)"
            ]
          },
          "metadata": {},
          "execution_count": 90
        }
      ]
    },
    {
      "cell_type": "code",
      "source": [
        "from sklearn import preprocessing\n",
        "\n",
        "X = preprocessing.StandardScaler().fit(X).transform(X)\n",
        "X"
      ],
      "metadata": {
        "colab": {
          "base_uri": "https://localhost:8080/"
        },
        "id": "vnIrB4csYoNH",
        "outputId": "deb566c6-5ae1-4e3e-b3e5-5b45aae46fbc"
      },
      "execution_count": null,
      "outputs": [
        {
          "output_type": "execute_result",
          "data": {
            "text/plain": [
              "array([[ 1.41233065, -0.55228825, -0.31180237, ...,  1.02530572,\n",
              "        -0.90391514,  0.23920054],\n",
              "       [ 0.69271802, -0.43043009, -0.51042268, ...,  0.22412199,\n",
              "        -0.58092809,  1.114388  ],\n",
              "       [-0.98637812, -0.8203762 , -1.02116063, ..., -0.95408939,\n",
              "        -0.54055471,  0.41111236],\n",
              "       ...,\n",
              "       [ 2.21916905, -0.74726131, -0.05643339, ...,  0.36550735,\n",
              "        -0.70204824, -0.79227039],\n",
              "       [-0.41941059, -0.67414641,  0.0286896 , ...,  0.74253499,\n",
              "         0.7110201 , -0.1046231 ],\n",
              "       [-0.48482992, -0.79600457, -0.51042268, ...,  1.16669108,\n",
              "        -0.62130147, -0.33904832]])"
            ]
          },
          "metadata": {},
          "execution_count": 91
        }
      ]
    },
    {
      "cell_type": "code",
      "source": [
        "from sklearn import cluster\n",
        "import warnings\n",
        "warnings.filterwarnings('ignore')\n",
        "\n",
        "kmeans = cluster.KMeans(n_clusters = 7, random_state=7)"
      ],
      "metadata": {
        "id": "_OZTmTTDYsEv"
      },
      "execution_count": null,
      "outputs": []
    },
    {
      "cell_type": "code",
      "source": [
        "kmeans.fit(X)"
      ],
      "metadata": {
        "colab": {
          "base_uri": "https://localhost:8080/",
          "height": 74
        },
        "id": "l5Px57W1YwUt",
        "outputId": "1695627a-e1d6-4ef6-fc0e-1e34c508e964"
      },
      "execution_count": null,
      "outputs": [
        {
          "output_type": "execute_result",
          "data": {
            "text/plain": [
              "KMeans(n_clusters=7, random_state=7)"
            ],
            "text/html": [
              "<style>#sk-container-id-2 {color: black;background-color: white;}#sk-container-id-2 pre{padding: 0;}#sk-container-id-2 div.sk-toggleable {background-color: white;}#sk-container-id-2 label.sk-toggleable__label {cursor: pointer;display: block;width: 100%;margin-bottom: 0;padding: 0.3em;box-sizing: border-box;text-align: center;}#sk-container-id-2 label.sk-toggleable__label-arrow:before {content: \"▸\";float: left;margin-right: 0.25em;color: #696969;}#sk-container-id-2 label.sk-toggleable__label-arrow:hover:before {color: black;}#sk-container-id-2 div.sk-estimator:hover label.sk-toggleable__label-arrow:before {color: black;}#sk-container-id-2 div.sk-toggleable__content {max-height: 0;max-width: 0;overflow: hidden;text-align: left;background-color: #f0f8ff;}#sk-container-id-2 div.sk-toggleable__content pre {margin: 0.2em;color: black;border-radius: 0.25em;background-color: #f0f8ff;}#sk-container-id-2 input.sk-toggleable__control:checked~div.sk-toggleable__content {max-height: 200px;max-width: 100%;overflow: auto;}#sk-container-id-2 input.sk-toggleable__control:checked~label.sk-toggleable__label-arrow:before {content: \"▾\";}#sk-container-id-2 div.sk-estimator input.sk-toggleable__control:checked~label.sk-toggleable__label {background-color: #d4ebff;}#sk-container-id-2 div.sk-label input.sk-toggleable__control:checked~label.sk-toggleable__label {background-color: #d4ebff;}#sk-container-id-2 input.sk-hidden--visually {border: 0;clip: rect(1px 1px 1px 1px);clip: rect(1px, 1px, 1px, 1px);height: 1px;margin: -1px;overflow: hidden;padding: 0;position: absolute;width: 1px;}#sk-container-id-2 div.sk-estimator {font-family: monospace;background-color: #f0f8ff;border: 1px dotted black;border-radius: 0.25em;box-sizing: border-box;margin-bottom: 0.5em;}#sk-container-id-2 div.sk-estimator:hover {background-color: #d4ebff;}#sk-container-id-2 div.sk-parallel-item::after {content: \"\";width: 100%;border-bottom: 1px solid gray;flex-grow: 1;}#sk-container-id-2 div.sk-label:hover label.sk-toggleable__label {background-color: #d4ebff;}#sk-container-id-2 div.sk-serial::before {content: \"\";position: absolute;border-left: 1px solid gray;box-sizing: border-box;top: 0;bottom: 0;left: 50%;z-index: 0;}#sk-container-id-2 div.sk-serial {display: flex;flex-direction: column;align-items: center;background-color: white;padding-right: 0.2em;padding-left: 0.2em;position: relative;}#sk-container-id-2 div.sk-item {position: relative;z-index: 1;}#sk-container-id-2 div.sk-parallel {display: flex;align-items: stretch;justify-content: center;background-color: white;position: relative;}#sk-container-id-2 div.sk-item::before, #sk-container-id-2 div.sk-parallel-item::before {content: \"\";position: absolute;border-left: 1px solid gray;box-sizing: border-box;top: 0;bottom: 0;left: 50%;z-index: -1;}#sk-container-id-2 div.sk-parallel-item {display: flex;flex-direction: column;z-index: 1;position: relative;background-color: white;}#sk-container-id-2 div.sk-parallel-item:first-child::after {align-self: flex-end;width: 50%;}#sk-container-id-2 div.sk-parallel-item:last-child::after {align-self: flex-start;width: 50%;}#sk-container-id-2 div.sk-parallel-item:only-child::after {width: 0;}#sk-container-id-2 div.sk-dashed-wrapped {border: 1px dashed gray;margin: 0 0.4em 0.5em 0.4em;box-sizing: border-box;padding-bottom: 0.4em;background-color: white;}#sk-container-id-2 div.sk-label label {font-family: monospace;font-weight: bold;display: inline-block;line-height: 1.2em;}#sk-container-id-2 div.sk-label-container {text-align: center;}#sk-container-id-2 div.sk-container {/* jupyter's `normalize.less` sets `[hidden] { display: none; }` but bootstrap.min.css set `[hidden] { display: none !important; }` so we also need the `!important` here to be able to override the default hidden behavior on the sphinx rendered scikit-learn.org. See: https://github.com/scikit-learn/scikit-learn/issues/21755 */display: inline-block !important;position: relative;}#sk-container-id-2 div.sk-text-repr-fallback {display: none;}</style><div id=\"sk-container-id-2\" class=\"sk-top-container\"><div class=\"sk-text-repr-fallback\"><pre>KMeans(n_clusters=7, random_state=7)</pre><b>In a Jupyter environment, please rerun this cell to show the HTML representation or trust the notebook. <br />On GitHub, the HTML representation is unable to render, please try loading this page with nbviewer.org.</b></div><div class=\"sk-container\" hidden><div class=\"sk-item\"><div class=\"sk-estimator sk-toggleable\"><input class=\"sk-toggleable__control sk-hidden--visually\" id=\"sk-estimator-id-2\" type=\"checkbox\" checked><label for=\"sk-estimator-id-2\" class=\"sk-toggleable__label sk-toggleable__label-arrow\">KMeans</label><div class=\"sk-toggleable__content\"><pre>KMeans(n_clusters=7, random_state=7)</pre></div></div></div></div></div>"
            ]
          },
          "metadata": {},
          "execution_count": 94
        }
      ]
    },
    {
      "cell_type": "code",
      "source": [
        "# n_clusters = 5 - > 0 ~ 4 군집 만들기\n",
        "\n",
        "cluster_label = kmeans.labels_\n",
        "cluster_label"
      ],
      "metadata": {
        "colab": {
          "base_uri": "https://localhost:8080/"
        },
        "id": "1KyFrVHXYyWx",
        "outputId": "36095100-ade4-4767-a92f-ae79b8f4d2e8"
      },
      "execution_count": null,
      "outputs": [
        {
          "output_type": "execute_result",
          "data": {
            "text/plain": [
              "array([6, 0, 0, 1, 1, 1, 0, 0, 1, 6, 6, 1, 1, 0, 0, 1, 6, 4, 6, 0, 0, 1,\n",
              "       1, 0, 4, 6, 1, 4, 5, 5, 5, 5, 6, 6, 5, 5, 5, 5, 6, 5, 5, 4, 4, 5,\n",
              "       6, 6, 6, 4, 6, 6, 5, 6, 6, 6, 6, 6, 1, 6, 6, 4, 6, 4, 4, 6, 4, 6,\n",
              "       6, 4, 6, 6, 6, 6, 1, 1, 1, 6, 4, 1, 6, 1, 1, 6, 6, 0, 4, 6, 2, 2,\n",
              "       3, 2, 2, 2, 3, 2, 3, 3, 2, 3, 3, 2, 2, 2, 2, 3, 0, 2, 3, 3, 3, 3,\n",
              "       0, 1, 1, 6, 6, 6, 4, 1, 1, 1, 1, 1, 4, 6, 1, 6, 1, 0, 0, 1, 6, 1,\n",
              "       6, 6, 1, 1, 6, 4, 6, 1, 4, 4, 0, 6, 3, 3, 3, 0, 0, 0, 0, 0, 0, 3,\n",
              "       3, 3, 0, 0, 0, 0, 0, 1, 0, 3, 1, 0, 0, 0, 0, 0, 0, 3, 3, 4, 1, 0,\n",
              "       1, 1, 1, 0], dtype=int32)"
            ]
          },
          "metadata": {},
          "execution_count": 95
        }
      ]
    },
    {
      "cell_type": "code",
      "source": [
        "new_df['Cluster'] = cluster_label\n",
        "new_df"
      ],
      "metadata": {
        "colab": {
          "base_uri": "https://localhost:8080/",
          "height": 423
        },
        "id": "fVwzw7f0Yzj9",
        "outputId": "2a7f361f-f5a4-4cc4-8bc8-c1e2b2c2bf09"
      },
      "execution_count": null,
      "outputs": [
        {
          "output_type": "execute_result",
          "data": {
            "text/plain": [
              "     stem_length  leaf_cnt  stem_thick  ti_value  ec_value  ph_value  \\\n",
              "0           36.6       7.3        16.0      15.8      1.34      5.70   \n",
              "1           33.3       7.8        15.3      16.2      1.17      5.78   \n",
              "2           25.6       6.2        13.5      16.1      0.92      5.79   \n",
              "3           29.2       6.8        18.2      14.3      0.80      5.80   \n",
              "4           25.1      10.2        16.6      14.5      0.97      5.96   \n",
              "..           ...       ...         ...       ...       ...       ...   \n",
              "191         27.7       6.4        14.8      16.3      1.28      5.60   \n",
              "192         28.6       5.6        15.5      16.2      1.12      6.07   \n",
              "193         40.3       6.5        16.9      13.8      1.20      5.75   \n",
              "194         28.2       6.8        17.2      13.5      1.28      6.10   \n",
              "195         27.9       6.3        15.3      15.0      1.37      5.77   \n",
              "\n",
              "     amount_value  growth_state  Cluster  \n",
              "0           211.0             3        6  \n",
              "1           267.0             3        0  \n",
              "2           222.0             3        0  \n",
              "3           180.0             3        1  \n",
              "4           138.0             3        1  \n",
              "..            ...           ...      ...  \n",
              "191         204.0             2        0  \n",
              "192         159.0             2        1  \n",
              "193         145.0             2        1  \n",
              "194         189.0             2        1  \n",
              "195         174.0             2        0  \n",
              "\n",
              "[180 rows x 9 columns]"
            ],
            "text/html": [
              "\n",
              "  <div id=\"df-a42cd73b-3fc6-41b9-994b-e5fc9dccbc92\" class=\"colab-df-container\">\n",
              "    <div>\n",
              "<style scoped>\n",
              "    .dataframe tbody tr th:only-of-type {\n",
              "        vertical-align: middle;\n",
              "    }\n",
              "\n",
              "    .dataframe tbody tr th {\n",
              "        vertical-align: top;\n",
              "    }\n",
              "\n",
              "    .dataframe thead th {\n",
              "        text-align: right;\n",
              "    }\n",
              "</style>\n",
              "<table border=\"1\" class=\"dataframe\">\n",
              "  <thead>\n",
              "    <tr style=\"text-align: right;\">\n",
              "      <th></th>\n",
              "      <th>stem_length</th>\n",
              "      <th>leaf_cnt</th>\n",
              "      <th>stem_thick</th>\n",
              "      <th>ti_value</th>\n",
              "      <th>ec_value</th>\n",
              "      <th>ph_value</th>\n",
              "      <th>amount_value</th>\n",
              "      <th>growth_state</th>\n",
              "      <th>Cluster</th>\n",
              "    </tr>\n",
              "  </thead>\n",
              "  <tbody>\n",
              "    <tr>\n",
              "      <th>0</th>\n",
              "      <td>36.6</td>\n",
              "      <td>7.3</td>\n",
              "      <td>16.0</td>\n",
              "      <td>15.8</td>\n",
              "      <td>1.34</td>\n",
              "      <td>5.70</td>\n",
              "      <td>211.0</td>\n",
              "      <td>3</td>\n",
              "      <td>6</td>\n",
              "    </tr>\n",
              "    <tr>\n",
              "      <th>1</th>\n",
              "      <td>33.3</td>\n",
              "      <td>7.8</td>\n",
              "      <td>15.3</td>\n",
              "      <td>16.2</td>\n",
              "      <td>1.17</td>\n",
              "      <td>5.78</td>\n",
              "      <td>267.0</td>\n",
              "      <td>3</td>\n",
              "      <td>0</td>\n",
              "    </tr>\n",
              "    <tr>\n",
              "      <th>2</th>\n",
              "      <td>25.6</td>\n",
              "      <td>6.2</td>\n",
              "      <td>13.5</td>\n",
              "      <td>16.1</td>\n",
              "      <td>0.92</td>\n",
              "      <td>5.79</td>\n",
              "      <td>222.0</td>\n",
              "      <td>3</td>\n",
              "      <td>0</td>\n",
              "    </tr>\n",
              "    <tr>\n",
              "      <th>3</th>\n",
              "      <td>29.2</td>\n",
              "      <td>6.8</td>\n",
              "      <td>18.2</td>\n",
              "      <td>14.3</td>\n",
              "      <td>0.80</td>\n",
              "      <td>5.80</td>\n",
              "      <td>180.0</td>\n",
              "      <td>3</td>\n",
              "      <td>1</td>\n",
              "    </tr>\n",
              "    <tr>\n",
              "      <th>4</th>\n",
              "      <td>25.1</td>\n",
              "      <td>10.2</td>\n",
              "      <td>16.6</td>\n",
              "      <td>14.5</td>\n",
              "      <td>0.97</td>\n",
              "      <td>5.96</td>\n",
              "      <td>138.0</td>\n",
              "      <td>3</td>\n",
              "      <td>1</td>\n",
              "    </tr>\n",
              "    <tr>\n",
              "      <th>...</th>\n",
              "      <td>...</td>\n",
              "      <td>...</td>\n",
              "      <td>...</td>\n",
              "      <td>...</td>\n",
              "      <td>...</td>\n",
              "      <td>...</td>\n",
              "      <td>...</td>\n",
              "      <td>...</td>\n",
              "      <td>...</td>\n",
              "    </tr>\n",
              "    <tr>\n",
              "      <th>191</th>\n",
              "      <td>27.7</td>\n",
              "      <td>6.4</td>\n",
              "      <td>14.8</td>\n",
              "      <td>16.3</td>\n",
              "      <td>1.28</td>\n",
              "      <td>5.60</td>\n",
              "      <td>204.0</td>\n",
              "      <td>2</td>\n",
              "      <td>0</td>\n",
              "    </tr>\n",
              "    <tr>\n",
              "      <th>192</th>\n",
              "      <td>28.6</td>\n",
              "      <td>5.6</td>\n",
              "      <td>15.5</td>\n",
              "      <td>16.2</td>\n",
              "      <td>1.12</td>\n",
              "      <td>6.07</td>\n",
              "      <td>159.0</td>\n",
              "      <td>2</td>\n",
              "      <td>1</td>\n",
              "    </tr>\n",
              "    <tr>\n",
              "      <th>193</th>\n",
              "      <td>40.3</td>\n",
              "      <td>6.5</td>\n",
              "      <td>16.9</td>\n",
              "      <td>13.8</td>\n",
              "      <td>1.20</td>\n",
              "      <td>5.75</td>\n",
              "      <td>145.0</td>\n",
              "      <td>2</td>\n",
              "      <td>1</td>\n",
              "    </tr>\n",
              "    <tr>\n",
              "      <th>194</th>\n",
              "      <td>28.2</td>\n",
              "      <td>6.8</td>\n",
              "      <td>17.2</td>\n",
              "      <td>13.5</td>\n",
              "      <td>1.28</td>\n",
              "      <td>6.10</td>\n",
              "      <td>189.0</td>\n",
              "      <td>2</td>\n",
              "      <td>1</td>\n",
              "    </tr>\n",
              "    <tr>\n",
              "      <th>195</th>\n",
              "      <td>27.9</td>\n",
              "      <td>6.3</td>\n",
              "      <td>15.3</td>\n",
              "      <td>15.0</td>\n",
              "      <td>1.37</td>\n",
              "      <td>5.77</td>\n",
              "      <td>174.0</td>\n",
              "      <td>2</td>\n",
              "      <td>0</td>\n",
              "    </tr>\n",
              "  </tbody>\n",
              "</table>\n",
              "<p>180 rows × 9 columns</p>\n",
              "</div>\n",
              "    <div class=\"colab-df-buttons\">\n",
              "\n",
              "  <div class=\"colab-df-container\">\n",
              "    <button class=\"colab-df-convert\" onclick=\"convertToInteractive('df-a42cd73b-3fc6-41b9-994b-e5fc9dccbc92')\"\n",
              "            title=\"Convert this dataframe to an interactive table.\"\n",
              "            style=\"display:none;\">\n",
              "\n",
              "  <svg xmlns=\"http://www.w3.org/2000/svg\" height=\"24px\" viewBox=\"0 -960 960 960\">\n",
              "    <path d=\"M120-120v-720h720v720H120Zm60-500h600v-160H180v160Zm220 220h160v-160H400v160Zm0 220h160v-160H400v160ZM180-400h160v-160H180v160Zm440 0h160v-160H620v160ZM180-180h160v-160H180v160Zm440 0h160v-160H620v160Z\"/>\n",
              "  </svg>\n",
              "    </button>\n",
              "\n",
              "  <style>\n",
              "    .colab-df-container {\n",
              "      display:flex;\n",
              "      gap: 12px;\n",
              "    }\n",
              "\n",
              "    .colab-df-convert {\n",
              "      background-color: #E8F0FE;\n",
              "      border: none;\n",
              "      border-radius: 50%;\n",
              "      cursor: pointer;\n",
              "      display: none;\n",
              "      fill: #1967D2;\n",
              "      height: 32px;\n",
              "      padding: 0 0 0 0;\n",
              "      width: 32px;\n",
              "    }\n",
              "\n",
              "    .colab-df-convert:hover {\n",
              "      background-color: #E2EBFA;\n",
              "      box-shadow: 0px 1px 2px rgba(60, 64, 67, 0.3), 0px 1px 3px 1px rgba(60, 64, 67, 0.15);\n",
              "      fill: #174EA6;\n",
              "    }\n",
              "\n",
              "    .colab-df-buttons div {\n",
              "      margin-bottom: 4px;\n",
              "    }\n",
              "\n",
              "    [theme=dark] .colab-df-convert {\n",
              "      background-color: #3B4455;\n",
              "      fill: #D2E3FC;\n",
              "    }\n",
              "\n",
              "    [theme=dark] .colab-df-convert:hover {\n",
              "      background-color: #434B5C;\n",
              "      box-shadow: 0px 1px 3px 1px rgba(0, 0, 0, 0.15);\n",
              "      filter: drop-shadow(0px 1px 2px rgba(0, 0, 0, 0.3));\n",
              "      fill: #FFFFFF;\n",
              "    }\n",
              "  </style>\n",
              "\n",
              "    <script>\n",
              "      const buttonEl =\n",
              "        document.querySelector('#df-a42cd73b-3fc6-41b9-994b-e5fc9dccbc92 button.colab-df-convert');\n",
              "      buttonEl.style.display =\n",
              "        google.colab.kernel.accessAllowed ? 'block' : 'none';\n",
              "\n",
              "      async function convertToInteractive(key) {\n",
              "        const element = document.querySelector('#df-a42cd73b-3fc6-41b9-994b-e5fc9dccbc92');\n",
              "        const dataTable =\n",
              "          await google.colab.kernel.invokeFunction('convertToInteractive',\n",
              "                                                    [key], {});\n",
              "        if (!dataTable) return;\n",
              "\n",
              "        const docLinkHtml = 'Like what you see? Visit the ' +\n",
              "          '<a target=\"_blank\" href=https://colab.research.google.com/notebooks/data_table.ipynb>data table notebook</a>'\n",
              "          + ' to learn more about interactive tables.';\n",
              "        element.innerHTML = '';\n",
              "        dataTable['output_type'] = 'display_data';\n",
              "        await google.colab.output.renderOutput(dataTable, element);\n",
              "        const docLink = document.createElement('div');\n",
              "        docLink.innerHTML = docLinkHtml;\n",
              "        element.appendChild(docLink);\n",
              "      }\n",
              "    </script>\n",
              "  </div>\n",
              "\n",
              "\n",
              "<div id=\"df-1c2d71fb-1678-498d-9296-0722592a85f5\">\n",
              "  <button class=\"colab-df-quickchart\" onclick=\"quickchart('df-1c2d71fb-1678-498d-9296-0722592a85f5')\"\n",
              "            title=\"Suggest charts\"\n",
              "            style=\"display:none;\">\n",
              "\n",
              "<svg xmlns=\"http://www.w3.org/2000/svg\" height=\"24px\"viewBox=\"0 0 24 24\"\n",
              "     width=\"24px\">\n",
              "    <g>\n",
              "        <path d=\"M19 3H5c-1.1 0-2 .9-2 2v14c0 1.1.9 2 2 2h14c1.1 0 2-.9 2-2V5c0-1.1-.9-2-2-2zM9 17H7v-7h2v7zm4 0h-2V7h2v10zm4 0h-2v-4h2v4z\"/>\n",
              "    </g>\n",
              "</svg>\n",
              "  </button>\n",
              "\n",
              "<style>\n",
              "  .colab-df-quickchart {\n",
              "      --bg-color: #E8F0FE;\n",
              "      --fill-color: #1967D2;\n",
              "      --hover-bg-color: #E2EBFA;\n",
              "      --hover-fill-color: #174EA6;\n",
              "      --disabled-fill-color: #AAA;\n",
              "      --disabled-bg-color: #DDD;\n",
              "  }\n",
              "\n",
              "  [theme=dark] .colab-df-quickchart {\n",
              "      --bg-color: #3B4455;\n",
              "      --fill-color: #D2E3FC;\n",
              "      --hover-bg-color: #434B5C;\n",
              "      --hover-fill-color: #FFFFFF;\n",
              "      --disabled-bg-color: #3B4455;\n",
              "      --disabled-fill-color: #666;\n",
              "  }\n",
              "\n",
              "  .colab-df-quickchart {\n",
              "    background-color: var(--bg-color);\n",
              "    border: none;\n",
              "    border-radius: 50%;\n",
              "    cursor: pointer;\n",
              "    display: none;\n",
              "    fill: var(--fill-color);\n",
              "    height: 32px;\n",
              "    padding: 0;\n",
              "    width: 32px;\n",
              "  }\n",
              "\n",
              "  .colab-df-quickchart:hover {\n",
              "    background-color: var(--hover-bg-color);\n",
              "    box-shadow: 0 1px 2px rgba(60, 64, 67, 0.3), 0 1px 3px 1px rgba(60, 64, 67, 0.15);\n",
              "    fill: var(--button-hover-fill-color);\n",
              "  }\n",
              "\n",
              "  .colab-df-quickchart-complete:disabled,\n",
              "  .colab-df-quickchart-complete:disabled:hover {\n",
              "    background-color: var(--disabled-bg-color);\n",
              "    fill: var(--disabled-fill-color);\n",
              "    box-shadow: none;\n",
              "  }\n",
              "\n",
              "  .colab-df-spinner {\n",
              "    border: 2px solid var(--fill-color);\n",
              "    border-color: transparent;\n",
              "    border-bottom-color: var(--fill-color);\n",
              "    animation:\n",
              "      spin 1s steps(1) infinite;\n",
              "  }\n",
              "\n",
              "  @keyframes spin {\n",
              "    0% {\n",
              "      border-color: transparent;\n",
              "      border-bottom-color: var(--fill-color);\n",
              "      border-left-color: var(--fill-color);\n",
              "    }\n",
              "    20% {\n",
              "      border-color: transparent;\n",
              "      border-left-color: var(--fill-color);\n",
              "      border-top-color: var(--fill-color);\n",
              "    }\n",
              "    30% {\n",
              "      border-color: transparent;\n",
              "      border-left-color: var(--fill-color);\n",
              "      border-top-color: var(--fill-color);\n",
              "      border-right-color: var(--fill-color);\n",
              "    }\n",
              "    40% {\n",
              "      border-color: transparent;\n",
              "      border-right-color: var(--fill-color);\n",
              "      border-top-color: var(--fill-color);\n",
              "    }\n",
              "    60% {\n",
              "      border-color: transparent;\n",
              "      border-right-color: var(--fill-color);\n",
              "    }\n",
              "    80% {\n",
              "      border-color: transparent;\n",
              "      border-right-color: var(--fill-color);\n",
              "      border-bottom-color: var(--fill-color);\n",
              "    }\n",
              "    90% {\n",
              "      border-color: transparent;\n",
              "      border-bottom-color: var(--fill-color);\n",
              "    }\n",
              "  }\n",
              "</style>\n",
              "\n",
              "  <script>\n",
              "    async function quickchart(key) {\n",
              "      const quickchartButtonEl =\n",
              "        document.querySelector('#' + key + ' button');\n",
              "      quickchartButtonEl.disabled = true;  // To prevent multiple clicks.\n",
              "      quickchartButtonEl.classList.add('colab-df-spinner');\n",
              "      try {\n",
              "        const charts = await google.colab.kernel.invokeFunction(\n",
              "            'suggestCharts', [key], {});\n",
              "      } catch (error) {\n",
              "        console.error('Error during call to suggestCharts:', error);\n",
              "      }\n",
              "      quickchartButtonEl.classList.remove('colab-df-spinner');\n",
              "      quickchartButtonEl.classList.add('colab-df-quickchart-complete');\n",
              "    }\n",
              "    (() => {\n",
              "      let quickchartButtonEl =\n",
              "        document.querySelector('#df-1c2d71fb-1678-498d-9296-0722592a85f5 button');\n",
              "      quickchartButtonEl.style.display =\n",
              "        google.colab.kernel.accessAllowed ? 'block' : 'none';\n",
              "    })();\n",
              "  </script>\n",
              "</div>\n",
              "\n",
              "  <div id=\"id_5eb1f44a-0931-4deb-904d-5f08778874bd\">\n",
              "    <style>\n",
              "      .colab-df-generate {\n",
              "        background-color: #E8F0FE;\n",
              "        border: none;\n",
              "        border-radius: 50%;\n",
              "        cursor: pointer;\n",
              "        display: none;\n",
              "        fill: #1967D2;\n",
              "        height: 32px;\n",
              "        padding: 0 0 0 0;\n",
              "        width: 32px;\n",
              "      }\n",
              "\n",
              "      .colab-df-generate:hover {\n",
              "        background-color: #E2EBFA;\n",
              "        box-shadow: 0px 1px 2px rgba(60, 64, 67, 0.3), 0px 1px 3px 1px rgba(60, 64, 67, 0.15);\n",
              "        fill: #174EA6;\n",
              "      }\n",
              "\n",
              "      [theme=dark] .colab-df-generate {\n",
              "        background-color: #3B4455;\n",
              "        fill: #D2E3FC;\n",
              "      }\n",
              "\n",
              "      [theme=dark] .colab-df-generate:hover {\n",
              "        background-color: #434B5C;\n",
              "        box-shadow: 0px 1px 3px 1px rgba(0, 0, 0, 0.15);\n",
              "        filter: drop-shadow(0px 1px 2px rgba(0, 0, 0, 0.3));\n",
              "        fill: #FFFFFF;\n",
              "      }\n",
              "    </style>\n",
              "    <button class=\"colab-df-generate\" onclick=\"generateWithVariable('new_df')\"\n",
              "            title=\"Generate code using this dataframe.\"\n",
              "            style=\"display:none;\">\n",
              "\n",
              "  <svg xmlns=\"http://www.w3.org/2000/svg\" height=\"24px\"viewBox=\"0 0 24 24\"\n",
              "       width=\"24px\">\n",
              "    <path d=\"M7,19H8.4L18.45,9,17,7.55,7,17.6ZM5,21V16.75L18.45,3.32a2,2,0,0,1,2.83,0l1.4,1.43a1.91,1.91,0,0,1,.58,1.4,1.91,1.91,0,0,1-.58,1.4L9.25,21ZM18.45,9,17,7.55Zm-12,3A5.31,5.31,0,0,0,4.9,8.1,5.31,5.31,0,0,0,1,6.5,5.31,5.31,0,0,0,4.9,4.9,5.31,5.31,0,0,0,6.5,1,5.31,5.31,0,0,0,8.1,4.9,5.31,5.31,0,0,0,12,6.5,5.46,5.46,0,0,0,6.5,12Z\"/>\n",
              "  </svg>\n",
              "    </button>\n",
              "    <script>\n",
              "      (() => {\n",
              "      const buttonEl =\n",
              "        document.querySelector('#id_5eb1f44a-0931-4deb-904d-5f08778874bd button.colab-df-generate');\n",
              "      buttonEl.style.display =\n",
              "        google.colab.kernel.accessAllowed ? 'block' : 'none';\n",
              "\n",
              "      buttonEl.onclick = () => {\n",
              "        google.colab.notebook.generateWithVariable('new_df');\n",
              "      }\n",
              "      })();\n",
              "    </script>\n",
              "  </div>\n",
              "\n",
              "    </div>\n",
              "  </div>\n"
            ],
            "application/vnd.google.colaboratory.intrinsic+json": {
              "type": "dataframe",
              "variable_name": "new_df",
              "summary": "{\n  \"name\": \"new_df\",\n  \"rows\": 180,\n  \"fields\": [\n    {\n      \"column\": \"stem_length\",\n      \"properties\": {\n        \"dtype\": \"number\",\n        \"std\": 4.598592206244168,\n        \"min\": 14.9,\n        \"max\": 45.9,\n        \"num_unique_values\": 105,\n        \"samples\": [\n          34.2,\n          14.9,\n          25.9\n        ],\n        \"semantic_type\": \"\",\n        \"description\": \"\"\n      }\n    },\n    {\n      \"column\": \"leaf_cnt\",\n      \"properties\": {\n        \"dtype\": \"number\",\n        \"std\": 4.114576403713845,\n        \"min\": 3.3,\n        \"max\": 37.2,\n        \"num_unique_values\": 89,\n        \"samples\": [\n          15.7,\n          13.8,\n          14.4\n        ],\n        \"semantic_type\": \"\",\n        \"description\": \"\"\n      }\n    },\n    {\n      \"column\": \"stem_thick\",\n      \"properties\": {\n        \"dtype\": \"number\",\n        \"std\": 3.5341429450858994,\n        \"min\": 10.7,\n        \"max\": 27.4,\n        \"num_unique_values\": 99,\n        \"samples\": [\n          12.0,\n          20.9,\n          13.2\n        ],\n        \"semantic_type\": \"\",\n        \"description\": \"\"\n      }\n    },\n    {\n      \"column\": \"ti_value\",\n      \"properties\": {\n        \"dtype\": \"number\",\n        \"std\": 3.040755851997776,\n        \"min\": 12.2,\n        \"max\": 25.8,\n        \"num_unique_values\": 83,\n        \"samples\": [\n          18.2,\n          15.8,\n          16.8\n        ],\n        \"semantic_type\": \"\",\n        \"description\": \"\"\n      }\n    },\n    {\n      \"column\": \"ec_value\",\n      \"properties\": {\n        \"dtype\": \"number\",\n        \"std\": 0.2127779082450051,\n        \"min\": 0.44,\n        \"max\": 1.77,\n        \"num_unique_values\": 78,\n        \"samples\": [\n          1.19,\n          1.34,\n          1.47\n        ],\n        \"semantic_type\": \"\",\n        \"description\": \"\"\n      }\n    },\n    {\n      \"column\": \"ph_value\",\n      \"properties\": {\n        \"dtype\": \"number\",\n        \"std\": 0.24837885301381207,\n        \"min\": 5.01,\n        \"max\": 6.83,\n        \"num_unique_values\": 80,\n        \"samples\": [\n          6.12,\n          5.7,\n          6.21\n        ],\n        \"semantic_type\": \"\",\n        \"description\": \"\"\n      }\n    },\n    {\n      \"column\": \"amount_value\",\n      \"properties\": {\n        \"dtype\": \"number\",\n        \"std\": 64.1647754201444,\n        \"min\": 56.0,\n        \"max\": 404.0,\n        \"num_unique_values\": 131,\n        \"samples\": [\n          157.0,\n          219.0,\n          147.0\n        ],\n        \"semantic_type\": \"\",\n        \"description\": \"\"\n      }\n    },\n    {\n      \"column\": \"growth_state\",\n      \"properties\": {\n        \"dtype\": \"number\",\n        \"std\": 2,\n        \"min\": 1,\n        \"max\": 7,\n        \"num_unique_values\": 7,\n        \"samples\": [\n          3,\n          7,\n          5\n        ],\n        \"semantic_type\": \"\",\n        \"description\": \"\"\n      }\n    },\n    {\n      \"column\": \"Cluster\",\n      \"properties\": {\n        \"dtype\": \"int32\",\n        \"num_unique_values\": 7,\n        \"samples\": [\n          6,\n          0,\n          2\n        ],\n        \"semantic_type\": \"\",\n        \"description\": \"\"\n      }\n    }\n  ]\n}"
            }
          },
          "metadata": {},
          "execution_count": 96
        }
      ]
    },
    {
      "cell_type": "markdown",
      "source": [
        "### 클러스터링 결과 분석"
      ],
      "metadata": {
        "id": "3yjyOtRmY8ur"
      }
    },
    {
      "cell_type": "code",
      "source": [
        "new_df.Cluster.value_counts().plot.pie(autopct='%.2f')"
      ],
      "metadata": {
        "colab": {
          "base_uri": "https://localhost:8080/",
          "height": 423
        },
        "id": "P37UfXQUYznb",
        "outputId": "3c5ea607-8262-4202-8749-910206d2036a"
      },
      "execution_count": null,
      "outputs": [
        {
          "output_type": "execute_result",
          "data": {
            "text/plain": [
              "<Axes: ylabel='count'>"
            ]
          },
          "metadata": {},
          "execution_count": 97
        },
        {
          "output_type": "display_data",
          "data": {
            "text/plain": [
              "<Figure size 640x480 with 1 Axes>"
            ],
            "image/png": "[encoded data removed]"
          },
          "metadata": {}
        }
      ]
    },
    {
      "cell_type": "code",
      "source": [
        "new_df.Cluster.value_counts()"
      ],
      "metadata": {
        "colab": {
          "base_uri": "https://localhost:8080/"
        },
        "id": "YIAkdJ5PZJBq",
        "outputId": "f823ae2e-1363-41c2-94fc-38cd305bd27a"
      },
      "execution_count": null,
      "outputs": [
        {
          "output_type": "execute_result",
          "data": {
            "text/plain": [
              "Cluster\n",
              "6    45\n",
              "1    37\n",
              "0    35\n",
              "3    20\n",
              "4    19\n",
              "5    12\n",
              "2    12\n",
              "Name: count, dtype: int64"
            ]
          },
          "metadata": {},
          "execution_count": 98
        }
      ]
    },
    {
      "cell_type": "markdown",
      "source": [
        "## 회귀 모델\n",
        "\n",
        "\n",
        "*   다양한 모델 사용할 예정\n",
        "*   모든 feature를 사용\n"
      ],
      "metadata": {
        "id": "eRNmYaLFTOy0"
      }
    },
    {
      "cell_type": "code",
      "source": [
        "r_df = new_df.copy() # 복사, 원본 데이터 유지 위해 사용"
      ],
      "metadata": {
        "id": "zbSbLDTmkqJu"
      },
      "execution_count": null,
      "outputs": []
    },
    {
      "cell_type": "code",
      "source": [
        "r_df.head()"
      ],
      "metadata": {
        "colab": {
          "base_uri": "https://localhost:8080/",
          "height": 206
        },
        "id": "QIehwW86kuaD",
        "outputId": "46436a1c-9729-40b8-d40d-379f37832aa2"
      },
      "execution_count": null,
      "outputs": [
        {
          "output_type": "execute_result",
          "data": {
            "text/plain": [
              "   stem_length  leaf_cnt  stem_thick  ti_value  ec_value  ph_value  \\\n",
              "0         36.6       7.3        16.0      15.8      1.34      5.70   \n",
              "1         33.3       7.8        15.3      16.2      1.17      5.78   \n",
              "2         25.6       6.2        13.5      16.1      0.92      5.79   \n",
              "3         29.2       6.8        18.2      14.3      0.80      5.80   \n",
              "4         25.1      10.2        16.6      14.5      0.97      5.96   \n",
              "\n",
              "   amount_value  growth_state  \n",
              "0         211.0             3  \n",
              "1         267.0             3  \n",
              "2         222.0             3  \n",
              "3         180.0             3  \n",
              "4         138.0             3  "
            ],
            "text/html": [
              "\n",
              "  <div id=\"df-d466a3a2-f127-4442-82a2-3af1d625ee4a\" class=\"colab-df-container\">\n",
              "    <div>\n",
              "<style scoped>\n",
              "    .dataframe tbody tr th:only-of-type {\n",
              "        vertical-align: middle;\n",
              "    }\n",
              "\n",
              "    .dataframe tbody tr th {\n",
              "        vertical-align: top;\n",
              "    }\n",
              "\n",
              "    .dataframe thead th {\n",
              "        text-align: right;\n",
              "    }\n",
              "</style>\n",
              "<table border=\"1\" class=\"dataframe\">\n",
              "  <thead>\n",
              "    <tr style=\"text-align: right;\">\n",
              "      <th></th>\n",
              "      <th>stem_length</th>\n",
              "      <th>leaf_cnt</th>\n",
              "      <th>stem_thick</th>\n",
              "      <th>ti_value</th>\n",
              "      <th>ec_value</th>\n",
              "      <th>ph_value</th>\n",
              "      <th>amount_value</th>\n",
              "      <th>growth_state</th>\n",
              "    </tr>\n",
              "  </thead>\n",
              "  <tbody>\n",
              "    <tr>\n",
              "      <th>0</th>\n",
              "      <td>36.6</td>\n",
              "      <td>7.3</td>\n",
              "      <td>16.0</td>\n",
              "      <td>15.8</td>\n",
              "      <td>1.34</td>\n",
              "      <td>5.70</td>\n",
              "      <td>211.0</td>\n",
              "      <td>3</td>\n",
              "    </tr>\n",
              "    <tr>\n",
              "      <th>1</th>\n",
              "      <td>33.3</td>\n",
              "      <td>7.8</td>\n",
              "      <td>15.3</td>\n",
              "      <td>16.2</td>\n",
              "      <td>1.17</td>\n",
              "      <td>5.78</td>\n",
              "      <td>267.0</td>\n",
              "      <td>3</td>\n",
              "    </tr>\n",
              "    <tr>\n",
              "      <th>2</th>\n",
              "      <td>25.6</td>\n",
              "      <td>6.2</td>\n",
              "      <td>13.5</td>\n",
              "      <td>16.1</td>\n",
              "      <td>0.92</td>\n",
              "      <td>5.79</td>\n",
              "      <td>222.0</td>\n",
              "      <td>3</td>\n",
              "    </tr>\n",
              "    <tr>\n",
              "      <th>3</th>\n",
              "      <td>29.2</td>\n",
              "      <td>6.8</td>\n",
              "      <td>18.2</td>\n",
              "      <td>14.3</td>\n",
              "      <td>0.80</td>\n",
              "      <td>5.80</td>\n",
              "      <td>180.0</td>\n",
              "      <td>3</td>\n",
              "    </tr>\n",
              "    <tr>\n",
              "      <th>4</th>\n",
              "      <td>25.1</td>\n",
              "      <td>10.2</td>\n",
              "      <td>16.6</td>\n",
              "      <td>14.5</td>\n",
              "      <td>0.97</td>\n",
              "      <td>5.96</td>\n",
              "      <td>138.0</td>\n",
              "      <td>3</td>\n",
              "    </tr>\n",
              "  </tbody>\n",
              "</table>\n",
              "</div>\n",
              "    <div class=\"colab-df-buttons\">\n",
              "\n",
              "  <div class=\"colab-df-container\">\n",
              "    <button class=\"colab-df-convert\" onclick=\"convertToInteractive('df-d466a3a2-f127-4442-82a2-3af1d625ee4a')\"\n",
              "            title=\"Convert this dataframe to an interactive table.\"\n",
              "            style=\"display:none;\">\n",
              "\n",
              "  <svg xmlns=\"http://www.w3.org/2000/svg\" height=\"24px\" viewBox=\"0 -960 960 960\">\n",
              "    <path d=\"M120-120v-720h720v720H120Zm60-500h600v-160H180v160Zm220 220h160v-160H400v160Zm0 220h160v-160H400v160ZM180-400h160v-160H180v160Zm440 0h160v-160H620v160ZM180-180h160v-160H180v160Zm440 0h160v-160H620v160Z\"/>\n",
              "  </svg>\n",
              "    </button>\n",
              "\n",
              "  <style>\n",
              "    .colab-df-container {\n",
              "      display:flex;\n",
              "      gap: 12px;\n",
              "    }\n",
              "\n",
              "    .colab-df-convert {\n",
              "      background-color: #E8F0FE;\n",
              "      border: none;\n",
              "      border-radius: 50%;\n",
              "      cursor: pointer;\n",
              "      display: none;\n",
              "      fill: #1967D2;\n",
              "      height: 32px;\n",
              "      padding: 0 0 0 0;\n",
              "      width: 32px;\n",
              "    }\n",
              "\n",
              "    .colab-df-convert:hover {\n",
              "      background-color: #E2EBFA;\n",
              "      box-shadow: 0px 1px 2px rgba(60, 64, 67, 0.3), 0px 1px 3px 1px rgba(60, 64, 67, 0.15);\n",
              "      fill: #174EA6;\n",
              "    }\n",
              "\n",
              "    .colab-df-buttons div {\n",
              "      margin-bottom: 4px;\n",
              "    }\n",
              "\n",
              "    [theme=dark] .colab-df-convert {\n",
              "      background-color: #3B4455;\n",
              "      fill: #D2E3FC;\n",
              "    }\n",
              "\n",
              "    [theme=dark] .colab-df-convert:hover {\n",
              "      background-color: #434B5C;\n",
              "      box-shadow: 0px 1px 3px 1px rgba(0, 0, 0, 0.15);\n",
              "      filter: drop-shadow(0px 1px 2px rgba(0, 0, 0, 0.3));\n",
              "      fill: #FFFFFF;\n",
              "    }\n",
              "  </style>\n",
              "\n",
              "    <script>\n",
              "      const buttonEl =\n",
              "        document.querySelector('#df-d466a3a2-f127-4442-82a2-3af1d625ee4a button.colab-df-convert');\n",
              "      buttonEl.style.display =\n",
              "        google.colab.kernel.accessAllowed ? 'block' : 'none';\n",
              "\n",
              "      async function convertToInteractive(key) {\n",
              "        const element = document.querySelector('#df-d466a3a2-f127-4442-82a2-3af1d625ee4a');\n",
              "        const dataTable =\n",
              "          await google.colab.kernel.invokeFunction('convertToInteractive',\n",
              "                                                    [key], {});\n",
              "        if (!dataTable) return;\n",
              "\n",
              "        const docLinkHtml = 'Like what you see? Visit the ' +\n",
              "          '<a target=\"_blank\" href=https://colab.research.google.com/notebooks/data_table.ipynb>data table notebook</a>'\n",
              "          + ' to learn more about interactive tables.';\n",
              "        element.innerHTML = '';\n",
              "        dataTable['output_type'] = 'display_data';\n",
              "        await google.colab.output.renderOutput(dataTable, element);\n",
              "        const docLink = document.createElement('div');\n",
              "        docLink.innerHTML = docLinkHtml;\n",
              "        element.appendChild(docLink);\n",
              "      }\n",
              "    </script>\n",
              "  </div>\n",
              "\n",
              "\n",
              "<div id=\"df-5d668fbb-dad6-4757-bfc8-2e05819959b5\">\n",
              "  <button class=\"colab-df-quickchart\" onclick=\"quickchart('df-5d668fbb-dad6-4757-bfc8-2e05819959b5')\"\n",
              "            title=\"Suggest charts\"\n",
              "            style=\"display:none;\">\n",
              "\n",
              "<svg xmlns=\"http://www.w3.org/2000/svg\" height=\"24px\"viewBox=\"0 0 24 24\"\n",
              "     width=\"24px\">\n",
              "    <g>\n",
              "        <path d=\"M19 3H5c-1.1 0-2 .9-2 2v14c0 1.1.9 2 2 2h14c1.1 0 2-.9 2-2V5c0-1.1-.9-2-2-2zM9 17H7v-7h2v7zm4 0h-2V7h2v10zm4 0h-2v-4h2v4z\"/>\n",
              "    </g>\n",
              "</svg>\n",
              "  </button>\n",
              "\n",
              "<style>\n",
              "  .colab-df-quickchart {\n",
              "      --bg-color: #E8F0FE;\n",
              "      --fill-color: #1967D2;\n",
              "      --hover-bg-color: #E2EBFA;\n",
              "      --hover-fill-color: #174EA6;\n",
              "      --disabled-fill-color: #AAA;\n",
              "      --disabled-bg-color: #DDD;\n",
              "  }\n",
              "\n",
              "  [theme=dark] .colab-df-quickchart {\n",
              "      --bg-color: #3B4455;\n",
              "      --fill-color: #D2E3FC;\n",
              "      --hover-bg-color: #434B5C;\n",
              "      --hover-fill-color: #FFFFFF;\n",
              "      --disabled-bg-color: #3B4455;\n",
              "      --disabled-fill-color: #666;\n",
              "  }\n",
              "\n",
              "  .colab-df-quickchart {\n",
              "    background-color: var(--bg-color);\n",
              "    border: none;\n",
              "    border-radius: 50%;\n",
              "    cursor: pointer;\n",
              "    display: none;\n",
              "    fill: var(--fill-color);\n",
              "    height: 32px;\n",
              "    padding: 0;\n",
              "    width: 32px;\n",
              "  }\n",
              "\n",
              "  .colab-df-quickchart:hover {\n",
              "    background-color: var(--hover-bg-color);\n",
              "    box-shadow: 0 1px 2px rgba(60, 64, 67, 0.3), 0 1px 3px 1px rgba(60, 64, 67, 0.15);\n",
              "    fill: var(--button-hover-fill-color);\n",
              "  }\n",
              "\n",
              "  .colab-df-quickchart-complete:disabled,\n",
              "  .colab-df-quickchart-complete:disabled:hover {\n",
              "    background-color: var(--disabled-bg-color);\n",
              "    fill: var(--disabled-fill-color);\n",
              "    box-shadow: none;\n",
              "  }\n",
              "\n",
              "  .colab-df-spinner {\n",
              "    border: 2px solid var(--fill-color);\n",
              "    border-color: transparent;\n",
              "    border-bottom-color: var(--fill-color);\n",
              "    animation:\n",
              "      spin 1s steps(1) infinite;\n",
              "  }\n",
              "\n",
              "  @keyframes spin {\n",
              "    0% {\n",
              "      border-color: transparent;\n",
              "      border-bottom-color: var(--fill-color);\n",
              "      border-left-color: var(--fill-color);\n",
              "    }\n",
              "    20% {\n",
              "      border-color: transparent;\n",
              "      border-left-color: var(--fill-color);\n",
              "      border-top-color: var(--fill-color);\n",
              "    }\n",
              "    30% {\n",
              "      border-color: transparent;\n",
              "      border-left-color: var(--fill-color);\n",
              "      border-top-color: var(--fill-color);\n",
              "      border-right-color: var(--fill-color);\n",
              "    }\n",
              "    40% {\n",
              "      border-color: transparent;\n",
              "      border-right-color: var(--fill-color);\n",
              "      border-top-color: var(--fill-color);\n",
              "    }\n",
              "    60% {\n",
              "      border-color: transparent;\n",
              "      border-right-color: var(--fill-color);\n",
              "    }\n",
              "    80% {\n",
              "      border-color: transparent;\n",
              "      border-right-color: var(--fill-color);\n",
              "      border-bottom-color: var(--fill-color);\n",
              "    }\n",
              "    90% {\n",
              "      border-color: transparent;\n",
              "      border-bottom-color: var(--fill-color);\n",
              "    }\n",
              "  }\n",
              "</style>\n",
              "\n",
              "  <script>\n",
              "    async function quickchart(key) {\n",
              "      const quickchartButtonEl =\n",
              "        document.querySelector('#' + key + ' button');\n",
              "      quickchartButtonEl.disabled = true;  // To prevent multiple clicks.\n",
              "      quickchartButtonEl.classList.add('colab-df-spinner');\n",
              "      try {\n",
              "        const charts = await google.colab.kernel.invokeFunction(\n",
              "            'suggestCharts', [key], {});\n",
              "      } catch (error) {\n",
              "        console.error('Error during call to suggestCharts:', error);\n",
              "      }\n",
              "      quickchartButtonEl.classList.remove('colab-df-spinner');\n",
              "      quickchartButtonEl.classList.add('colab-df-quickchart-complete');\n",
              "    }\n",
              "    (() => {\n",
              "      let quickchartButtonEl =\n",
              "        document.querySelector('#df-5d668fbb-dad6-4757-bfc8-2e05819959b5 button');\n",
              "      quickchartButtonEl.style.display =\n",
              "        google.colab.kernel.accessAllowed ? 'block' : 'none';\n",
              "    })();\n",
              "  </script>\n",
              "</div>\n",
              "\n",
              "    </div>\n",
              "  </div>\n"
            ],
            "application/vnd.google.colaboratory.intrinsic+json": {
              "type": "dataframe",
              "variable_name": "r_df",
              "summary": "{\n  \"name\": \"r_df\",\n  \"rows\": 180,\n  \"fields\": [\n    {\n      \"column\": \"stem_length\",\n      \"properties\": {\n        \"dtype\": \"number\",\n        \"std\": 4.598592206244168,\n        \"min\": 14.9,\n        \"max\": 45.9,\n        \"num_unique_values\": 105,\n        \"samples\": [\n          34.2,\n          14.9,\n          25.9\n        ],\n        \"semantic_type\": \"\",\n        \"description\": \"\"\n      }\n    },\n    {\n      \"column\": \"leaf_cnt\",\n      \"properties\": {\n        \"dtype\": \"number\",\n        \"std\": 4.114576403713845,\n        \"min\": 3.3,\n        \"max\": 37.2,\n        \"num_unique_values\": 89,\n        \"samples\": [\n          15.7,\n          13.8,\n          14.4\n        ],\n        \"semantic_type\": \"\",\n        \"description\": \"\"\n      }\n    },\n    {\n      \"column\": \"stem_thick\",\n      \"properties\": {\n        \"dtype\": \"number\",\n        \"std\": 3.5341429450858994,\n        \"min\": 10.7,\n        \"max\": 27.4,\n        \"num_unique_values\": 99,\n        \"samples\": [\n          12.0,\n          20.9,\n          13.2\n        ],\n        \"semantic_type\": \"\",\n        \"description\": \"\"\n      }\n    },\n    {\n      \"column\": \"ti_value\",\n      \"properties\": {\n        \"dtype\": \"number\",\n        \"std\": 3.040755851997776,\n        \"min\": 12.2,\n        \"max\": 25.8,\n        \"num_unique_values\": 83,\n        \"samples\": [\n          18.2,\n          15.8,\n          16.8\n        ],\n        \"semantic_type\": \"\",\n        \"description\": \"\"\n      }\n    },\n    {\n      \"column\": \"ec_value\",\n      \"properties\": {\n        \"dtype\": \"number\",\n        \"std\": 0.2127779082450051,\n        \"min\": 0.44,\n        \"max\": 1.77,\n        \"num_unique_values\": 78,\n        \"samples\": [\n          1.19,\n          1.34,\n          1.47\n        ],\n        \"semantic_type\": \"\",\n        \"description\": \"\"\n      }\n    },\n    {\n      \"column\": \"ph_value\",\n      \"properties\": {\n        \"dtype\": \"number\",\n        \"std\": 0.24837885301381207,\n        \"min\": 5.01,\n        \"max\": 6.83,\n        \"num_unique_values\": 80,\n        \"samples\": [\n          6.12,\n          5.7,\n          6.21\n        ],\n        \"semantic_type\": \"\",\n        \"description\": \"\"\n      }\n    },\n    {\n      \"column\": \"amount_value\",\n      \"properties\": {\n        \"dtype\": \"number\",\n        \"std\": 64.1647754201444,\n        \"min\": 56.0,\n        \"max\": 404.0,\n        \"num_unique_values\": 131,\n        \"samples\": [\n          157.0,\n          219.0,\n          147.0\n        ],\n        \"semantic_type\": \"\",\n        \"description\": \"\"\n      }\n    },\n    {\n      \"column\": \"growth_state\",\n      \"properties\": {\n        \"dtype\": \"number\",\n        \"std\": 2,\n        \"min\": 1,\n        \"max\": 7,\n        \"num_unique_values\": 7,\n        \"samples\": [\n          3,\n          7,\n          5\n        ],\n        \"semantic_type\": \"\",\n        \"description\": \"\"\n      }\n    }\n  ]\n}"
            }
          },
          "metadata": {},
          "execution_count": 102
        }
      ]
    },
    {
      "cell_type": "code",
      "source": [
        "r_df = r_df.drop(['Cluster'], axis=1)"
      ],
      "metadata": {
        "id": "fOudyg9gkwwP"
      },
      "execution_count": null,
      "outputs": []
    },
    {
      "cell_type": "markdown",
      "source": [
        "### linear regression 모델 사용"
      ],
      "metadata": {
        "id": "ya3rBerak9yM"
      }
    },
    {
      "cell_type": "code",
      "source": [
        "X = r_df[['stem_length','leaf_cnt','stem_thick']]\n",
        "y = r_df['growth_state']\n",
        "\n",
        "X.shape"
      ],
      "metadata": {
        "colab": {
          "base_uri": "https://localhost:8080/"
        },
        "id": "LwQq1IfZk1Ku",
        "outputId": "e3a4aac0-497f-4a7b-c2e5-d8487c9d4ee3"
      },
      "execution_count": null,
      "outputs": [
        {
          "output_type": "execute_result",
          "data": {
            "text/plain": [
              "(180, 3)"
            ]
          },
          "metadata": {},
          "execution_count": 160
        }
      ]
    },
    {
      "cell_type": "code",
      "source": [
        "from sklearn.linear_model import LinearRegression # 랜덤하게 잘라줌\n",
        "from sklearn.model_selection import train_test_split\n",
        "\n",
        "import warnings\n",
        "warnings.filterwarnings('ignore')"
      ],
      "metadata": {
        "id": "qgac8dOnlo_U"
      },
      "execution_count": null,
      "outputs": []
    },
    {
      "cell_type": "code",
      "source": [
        "X_train, X_test, y_train, y_test = train_test_split(X, y, test_size=0.3, random_state=7) # 70 : 30"
      ],
      "metadata": {
        "id": "bV1qgbEFlqjb"
      },
      "execution_count": null,
      "outputs": []
    },
    {
      "cell_type": "code",
      "source": [
        "X_train.shape"
      ],
      "metadata": {
        "colab": {
          "base_uri": "https://localhost:8080/"
        },
        "id": "W4Iwq3AXlsNZ",
        "outputId": "5eba8a59-8c3f-4d62-b6e1-f03ef8cd598f"
      },
      "execution_count": null,
      "outputs": [
        {
          "output_type": "execute_result",
          "data": {
            "text/plain": [
              "(126, 3)"
            ]
          },
          "metadata": {},
          "execution_count": 163
        }
      ]
    },
    {
      "cell_type": "code",
      "source": [
        "X_test.shape"
      ],
      "metadata": {
        "colab": {
          "base_uri": "https://localhost:8080/"
        },
        "id": "GbMzM9kbltlm",
        "outputId": "04e90f61-3391-4d00-f425-f6d882af8a59"
      },
      "execution_count": null,
      "outputs": [
        {
          "output_type": "execute_result",
          "data": {
            "text/plain": [
              "(54, 3)"
            ]
          },
          "metadata": {},
          "execution_count": 164
        }
      ]
    },
    {
      "cell_type": "code",
      "source": [
        "Ir = LinearRegression()"
      ],
      "metadata": {
        "id": "QY7Q2tGHlu28"
      },
      "execution_count": null,
      "outputs": []
    },
    {
      "cell_type": "code",
      "source": [
        "Ir.fit(X_train, y_train) # 가중치, bias 계산 완료"
      ],
      "metadata": {
        "colab": {
          "base_uri": "https://localhost:8080/",
          "height": 74
        },
        "id": "AvQ6p3QSlwyq",
        "outputId": "565b5265-5379-463a-aefd-51d051791d26"
      },
      "execution_count": null,
      "outputs": [
        {
          "output_type": "execute_result",
          "data": {
            "text/plain": [
              "LinearRegression()"
            ],
            "text/html": [
              "<style>#sk-container-id-4 {color: black;background-color: white;}#sk-container-id-4 pre{padding: 0;}#sk-container-id-4 div.sk-toggleable {background-color: white;}#sk-container-id-4 label.sk-toggleable__label {cursor: pointer;display: block;width: 100%;margin-bottom: 0;padding: 0.3em;box-sizing: border-box;text-align: center;}#sk-container-id-4 label.sk-toggleable__label-arrow:before {content: \"▸\";float: left;margin-right: 0.25em;color: #696969;}#sk-container-id-4 label.sk-toggleable__label-arrow:hover:before {color: black;}#sk-container-id-4 div.sk-estimator:hover label.sk-toggleable__label-arrow:before {color: black;}#sk-container-id-4 div.sk-toggleable__content {max-height: 0;max-width: 0;overflow: hidden;text-align: left;background-color: #f0f8ff;}#sk-container-id-4 div.sk-toggleable__content pre {margin: 0.2em;color: black;border-radius: 0.25em;background-color: #f0f8ff;}#sk-container-id-4 input.sk-toggleable__control:checked~div.sk-toggleable__content {max-height: 200px;max-width: 100%;overflow: auto;}#sk-container-id-4 input.sk-toggleable__control:checked~label.sk-toggleable__label-arrow:before {content: \"▾\";}#sk-container-id-4 div.sk-estimator input.sk-toggleable__control:checked~label.sk-toggleable__label {background-color: #d4ebff;}#sk-container-id-4 div.sk-label input.sk-toggleable__control:checked~label.sk-toggleable__label {background-color: #d4ebff;}#sk-container-id-4 input.sk-hidden--visually {border: 0;clip: rect(1px 1px 1px 1px);clip: rect(1px, 1px, 1px, 1px);height: 1px;margin: -1px;overflow: hidden;padding: 0;position: absolute;width: 1px;}#sk-container-id-4 div.sk-estimator {font-family: monospace;background-color: #f0f8ff;border: 1px dotted black;border-radius: 0.25em;box-sizing: border-box;margin-bottom: 0.5em;}#sk-container-id-4 div.sk-estimator:hover {background-color: #d4ebff;}#sk-container-id-4 div.sk-parallel-item::after {content: \"\";width: 100%;border-bottom: 1px solid gray;flex-grow: 1;}#sk-container-id-4 div.sk-label:hover label.sk-toggleable__label {background-color: #d4ebff;}#sk-container-id-4 div.sk-serial::before {content: \"\";position: absolute;border-left: 1px solid gray;box-sizing: border-box;top: 0;bottom: 0;left: 50%;z-index: 0;}#sk-container-id-4 div.sk-serial {display: flex;flex-direction: column;align-items: center;background-color: white;padding-right: 0.2em;padding-left: 0.2em;position: relative;}#sk-container-id-4 div.sk-item {position: relative;z-index: 1;}#sk-container-id-4 div.sk-parallel {display: flex;align-items: stretch;justify-content: center;background-color: white;position: relative;}#sk-container-id-4 div.sk-item::before, #sk-container-id-4 div.sk-parallel-item::before {content: \"\";position: absolute;border-left: 1px solid gray;box-sizing: border-box;top: 0;bottom: 0;left: 50%;z-index: -1;}#sk-container-id-4 div.sk-parallel-item {display: flex;flex-direction: column;z-index: 1;position: relative;background-color: white;}#sk-container-id-4 div.sk-parallel-item:first-child::after {align-self: flex-end;width: 50%;}#sk-container-id-4 div.sk-parallel-item:last-child::after {align-self: flex-start;width: 50%;}#sk-container-id-4 div.sk-parallel-item:only-child::after {width: 0;}#sk-container-id-4 div.sk-dashed-wrapped {border: 1px dashed gray;margin: 0 0.4em 0.5em 0.4em;box-sizing: border-box;padding-bottom: 0.4em;background-color: white;}#sk-container-id-4 div.sk-label label {font-family: monospace;font-weight: bold;display: inline-block;line-height: 1.2em;}#sk-container-id-4 div.sk-label-container {text-align: center;}#sk-container-id-4 div.sk-container {/* jupyter's `normalize.less` sets `[hidden] { display: none; }` but bootstrap.min.css set `[hidden] { display: none !important; }` so we also need the `!important` here to be able to override the default hidden behavior on the sphinx rendered scikit-learn.org. See: https://github.com/scikit-learn/scikit-learn/issues/21755 */display: inline-block !important;position: relative;}#sk-container-id-4 div.sk-text-repr-fallback {display: none;}</style><div id=\"sk-container-id-4\" class=\"sk-top-container\"><div class=\"sk-text-repr-fallback\"><pre>LinearRegression()</pre><b>In a Jupyter environment, please rerun this cell to show the HTML representation or trust the notebook. <br />On GitHub, the HTML representation is unable to render, please try loading this page with nbviewer.org.</b></div><div class=\"sk-container\" hidden><div class=\"sk-item\"><div class=\"sk-estimator sk-toggleable\"><input class=\"sk-toggleable__control sk-hidden--visually\" id=\"sk-estimator-id-4\" type=\"checkbox\" checked><label for=\"sk-estimator-id-4\" class=\"sk-toggleable__label sk-toggleable__label-arrow\">LinearRegression</label><div class=\"sk-toggleable__content\"><pre>LinearRegression()</pre></div></div></div></div></div>"
            ]
          },
          "metadata": {},
          "execution_count": 166
        }
      ]
    },
    {
      "cell_type": "code",
      "source": [
        "from __future__ import print_function\n",
        "print('Ir.coef_ : ', Ir.coef_)\n",
        "print('Ir.intercept_ : ', Ir.intercept_)"
      ],
      "metadata": {
        "colab": {
          "base_uri": "https://localhost:8080/"
        },
        "id": "FjIMBGR0lyVL",
        "outputId": "f02b4845-0b3b-4390-a959-71a5c4f7fcfc"
      },
      "execution_count": null,
      "outputs": [
        {
          "output_type": "stream",
          "name": "stdout",
          "text": [
            "Ir.coef_ :  [-0.01199898  0.15062351  0.39280276]\n",
            "Ir.intercept_ :  -3.7698258528738124\n"
          ]
        }
      ]
    },
    {
      "cell_type": "code",
      "source": [
        "\n",
        "\n",
        "print('훈련 데이터셋의 R2 : ', Ir.score(X_train, y_train))\n",
        "print('테스트 데이터셋의 R2 : ', Ir.score(X_test, y_test))"
      ],
      "metadata": {
        "colab": {
          "base_uri": "https://localhost:8080/"
        },
        "id": "kFf_xu9el1Z1",
        "outputId": "e025b52f-8090-4196-b466-624552387cfc"
      },
      "execution_count": null,
      "outputs": [
        {
          "output_type": "stream",
          "name": "stdout",
          "text": [
            "훈련 데이터셋의 R2 :  0.7499752328726229\n",
            "테스트 데이터셋의 R2 :  0.7712013098916012\n"
          ]
        }
      ]
    },
    {
      "cell_type": "markdown",
      "source": [
        "### 릿지 회귀 모델 사용"
      ],
      "metadata": {
        "id": "laz_ngC2l7ji"
      }
    },
    {
      "cell_type": "code",
      "source": [
        "from sklearn.preprocessing import StandardScaler\n",
        "scaler = StandardScaler()\n",
        "X_train = scaler.fit_transform(X_train)\n",
        "X_test = scaler.transform(X_test)"
      ],
      "metadata": {
        "id": "ic3JUtuVonYD"
      },
      "execution_count": null,
      "outputs": []
    },
    {
      "cell_type": "code",
      "source": [
        "from sklearn.linear_model import Ridge\n",
        "\n",
        "ridge = Ridge().fit(X_train, y_train)"
      ],
      "metadata": {
        "id": "Yjq8_8hPl3AK"
      },
      "execution_count": null,
      "outputs": []
    },
    {
      "cell_type": "code",
      "source": [
        "\n",
        "print('훈련 데이터셋의 R2 : ', ridge.score(X_train, y_train))\n",
        "print('테스트 데이터셋의 R2 : ', ridge.score(X_test, y_test))"
      ],
      "metadata": {
        "colab": {
          "base_uri": "https://localhost:8080/"
        },
        "id": "-UkNFyUNl_8G",
        "outputId": "82f086a0-2cb4-4cfe-9cc2-5deee8feb30c"
      },
      "execution_count": null,
      "outputs": [
        {
          "output_type": "stream",
          "name": "stdout",
          "text": [
            "훈련 데이터셋의 R2 :  0.7499469242491946\n",
            "테스트 데이터셋의 R2 :  0.7719631608863626\n"
          ]
        }
      ]
    },
    {
      "cell_type": "code",
      "source": [
        "\n",
        "ridge10 = Ridge(alpha=10).fit(X_train, y_train)\n",
        "print('훈련 데이터셋의 R2 : ', ridge10.score(X_train, y_train))\n",
        "print('테스트 데이터셋의 R2 : ', ridge10.score(X_test, y_test))"
      ],
      "metadata": {
        "colab": {
          "base_uri": "https://localhost:8080/"
        },
        "id": "j04CUq5LmA9I",
        "outputId": "06137136-53b5-4871-96fc-080c0268d2fa"
      },
      "execution_count": null,
      "outputs": [
        {
          "output_type": "stream",
          "name": "stdout",
          "text": [
            "훈련 데이터셋의 R2 :  0.7476269979569292\n",
            "테스트 데이터셋의 R2 :  0.775371817059138\n"
          ]
        }
      ]
    },
    {
      "cell_type": "code",
      "source": [
        "\n",
        "ridge001 = Ridge(alpha=0.01).fit(X_train, y_train)\n",
        "print('훈련 데이터셋의 R2 : ', ridge001.score(X_train, y_train))\n",
        "print('테스트 데이터셋의 R2 : ', ridge001.score(X_test, y_test))"
      ],
      "metadata": {
        "colab": {
          "base_uri": "https://localhost:8080/"
        },
        "id": "Wnj5YgyYmDE4",
        "outputId": "486957e5-4197-4e47-eeaf-bb69f2f0b7a4"
      },
      "execution_count": null,
      "outputs": [
        {
          "output_type": "stream",
          "name": "stdout",
          "text": [
            "훈련 데이터셋의 R2 :  0.7499752299747111\n",
            "테스트 데이터셋의 R2 :  0.7712093898901439\n"
          ]
        }
      ]
    },
    {
      "cell_type": "code",
      "source": [
        "import pandas as pd\n",
        "import numpy as np\n",
        "\n",
        "import matplotlib.pyplot as plt\n",
        "import seaborn as sns\n",
        "import koreanize_matplotlib"
      ],
      "metadata": {
        "id": "Rp7YmNUMmbCs"
      },
      "execution_count": null,
      "outputs": []
    },
    {
      "cell_type": "code",
      "source": [
        "import numpy as np\n",
        "\n",
        "train_scores = []\n",
        "test_scores = []\n",
        "\n",
        "n_alpha_settings = np.arange(0.1,1.0,0.01)\n",
        "\n",
        "for n_alpha in n_alpha_settings :\n",
        "\n",
        "  ridge = Ridge(alpha= n_alpha)\n",
        "  ridge.fit(X_train, y_train)\n",
        "\n",
        "  train_scores.append(ridge.score(X_train, y_train))\n",
        "\n",
        "  test_scores.append(ridge.score(X_test, y_test))\n",
        "\n",
        "plt.figure(dpi=100)\n",
        "\n",
        "plt.plot(n_alpha_settings, train_scores, label = '훈련 정확도')\n",
        "plt.plot(n_alpha_settings, test_scores, label = '테스트 정확도')\n",
        "\n",
        "plt.title('Ridge 모델의 alpha 값에 따른 정확도 비교')\n",
        "plt.xlabel('alpha 수치')\n",
        "plt.ylabel('정확도')\n",
        "plt.legend()\n",
        "plt.show()\n",
        "best_alpha = n_alpha_settings[np.argmax(test_scores)]\n",
        "best_test_accuracy = max(test_scores)\n",
        "print(f\"가장 높은 테스트 정확도: {best_test_accuracy}, 해당 alpha 값: {best_alpha}\")"
      ],
      "metadata": {
        "colab": {
          "base_uri": "https://localhost:8080/",
          "height": 487
        },
        "id": "a1sshMQRmG6Q",
        "outputId": "146a442c-8982-4871-e0a7-f183c254f56b"
      },
      "execution_count": null,
      "outputs": [
        {
          "output_type": "display_data",
          "data": {
            "text/plain": [
              "<Figure size 640x480 with 1 Axes>"
            ],
            "image/png": "[encoded data removed]"
          },
          "metadata": {}
        },
        {
          "output_type": "stream",
          "name": "stdout",
          "text": [
            "가장 높은 테스트 정확도: 0.7719559940914545, 해당 alpha 값: 0.9899999999999995\n"
          ]
        }
      ]
    },
    {
      "cell_type": "code",
      "source": [
        "\n",
        "feature_names = ['stem_length', 'leaf_cnt', 'stem_thick']\n",
        "\n",
        "def predict_growth_state(new_input):\n",
        "    new_input_array = np.array(new_input).reshape(1, -1)\n",
        "    prediction = ridge.predict(new_input_array)\n",
        "    return prediction\n",
        "\n",
        "while True:\n",
        "    try:\n",
        "        new_input = []\n",
        "        print(f\"{len(feature_names)}개의 특성 값을 입력하세요:\")\n",
        "\n",
        "        for feature in feature_names:\n",
        "            value = float(input(f\"{feature}: \"))\n",
        "            new_input.append(value)\n",
        "\n",
        "        prediction = predict_growth_state(new_input)\n",
        "        print(f\"예측된 성장 상태: {prediction[0]}\")\n",
        "\n",
        "    except ValueError:\n",
        "        print(\"유효한 숫자를 입력해주세요.\")\n",
        "    except Exception as e:\n",
        "        print(f\"오류가 발생했습니다: {e}\")\n",
        "\n",
        "    cont = input(\"다른 데이터를 예측하시겠습니까? (y/n): \").strip().lower()\n",
        "    if cont != 'y':\n",
        "        break\n"
      ],
      "metadata": {
        "colab": {
          "base_uri": "https://localhost:8080/"
        },
        "id": "VkaFT5fjmh-v",
        "outputId": "52cc0c8e-e38f-426c-8581-aae1ef1d1687"
      },
      "execution_count": null,
      "outputs": [
        {
          "name": "stdout",
          "output_type": "stream",
          "text": [
            "3개의 특성 값을 입력하세요:\n",
            "stem_length: 29.9\n",
            "leaf_cnt: 6.5\n",
            "stem_thick: 15.0\n",
            "예측된 성장 상태: 27.002113224008447\n",
            "다른 데이터를 예측하시겠습니까? (y/n): n\n"
          ]
        }
      ]
    },
    {
      "cell_type": "code",
      "source": [
        "from sklearn.preprocessing import StandardScaler\n",
        "from sklearn.linear_model import LogisticRegression\n",
        "from sklearn.metrics import accuracy_score\n",
        "\n",
        "scaler = StandardScaler()\n",
        "X_train_scaled = scaler.fit_transform(X_train)\n",
        "X_test_scaled = scaler.transform(X_test)\n",
        "\n",
        "logreg = LogisticRegression(max_iter=10000).fit(X_train_scaled, y_train)\n",
        "\n",
        "print('훈련 데이터셋의 정확도: ', logreg.score(X_train_scaled, y_train))\n",
        "print('테스트 데이터셋의 정확도: ', logreg.score(X_test_scaled, y_test))\n",
        "\n",
        "def predict_growth_state(new_input):\n",
        "    new_input_array = np.array(new_input).reshape(1, -1)\n",
        "    new_input_scaled = scaler.transform(new_input_array)\n",
        "    prediction = logreg.predict(new_input_scaled)\n",
        "    return prediction\n",
        "\n",
        "while True:\n",
        "    try:\n",
        "        new_input = []\n",
        "        print(f\"{len(feature_names)}개의 특성 값을 입력하세요:\")\n",
        "\n",
        "        for feature in feature_names:\n",
        "            value = float(input(f\"{feature}: \"))\n",
        "            new_input.append(value)\n",
        "\n",
        "        prediction = predict_growth_state(new_input)\n",
        "        print(f\"예측된 성장 상태: {prediction[0]}\")\n",
        "\n",
        "    except ValueError:\n",
        "        print(\"유효한 숫자를 입력해주세요.\")\n",
        "    except Exception as e:\n",
        "        print(f\"오류가 발생했습니다: {e}\")\n",
        "\n",
        "    cont = input(\"다른 데이터를 예측하시겠습니까? (y/n): \").strip().lower()\n",
        "    if cont != 'y':\n",
        "        break\n"
      ],
      "metadata": {
        "colab": {
          "base_uri": "https://localhost:8080/"
        },
        "id": "HMRqQWiku2Lb",
        "outputId": "ddf69cff-7219-4479-f2b0-e8e5cd7313a4"
      },
      "execution_count": null,
      "outputs": [
        {
          "name": "stdout",
          "output_type": "stream",
          "text": [
            "훈련 데이터셋의 정확도:  0.5873015873015873\n",
            "테스트 데이터셋의 정확도:  0.5370370370370371\n",
            "3개의 특성 값을 입력하세요:\n",
            "stem_length: 29.9\n",
            "leaf_cnt: 6.5\n",
            "stem_thick: 15.0\n",
            "예측된 성장 상태: 7\n",
            "다른 데이터를 예측하시겠습니까? (y/n): ㅛ\n"
          ]
        }
      ]
    },
    {
      "cell_type": "markdown",
      "source": [
        "# 양액 추천 (농진청 데이터 기반)\n",
        "\n",
        "\n",
        "*   x : stem_length\tleaf_cnt\tstem_thick\tti_value\n",
        "*   y : ec_value\tph_value\tamount_value (양액 정보들)\n",
        "\n"
      ],
      "metadata": {
        "id": "7uOE_4psE_u-"
      }
    },
    {
      "cell_type": "code",
      "source": [
        "import pandas as pd"
      ],
      "metadata": {
        "id": "tSlM23aH8vW3"
      },
      "execution_count": null,
      "outputs": []
    },
    {
      "cell_type": "code",
      "source": [
        "new_df = pd.read_csv('/content/f_new_file.csv')"
      ],
      "metadata": {
        "id": "vZs7aaWdvi8C"
      },
      "execution_count": null,
      "outputs": []
    },
    {
      "cell_type": "code",
      "source": [
        "new_df.head()"
      ],
      "metadata": {
        "id": "tdjBvarS8ovq"
      },
      "execution_count": null,
      "outputs": []
    },
    {
      "cell_type": "code",
      "source": [
        "new_df = new_df.drop(['Cluster', 'growth_state'], axis=1)\n",
        "new_df.head()"
      ],
      "metadata": {
        "id": "0QuuHYdU83Zk"
      },
      "execution_count": null,
      "outputs": []
    },
    {
      "cell_type": "code",
      "source": [
        "import pandas as pd\n",
        "import seaborn as sns\n",
        "import matplotlib.pyplot as plt\n",
        "\n",
        "sns.pairplot(new_df)\n",
        "plt.show()\n",
        "\n",
        "fig, axes = plt.subplots(2, 2, figsize=(12, 10))\n",
        "sns.boxplot(data=new_df[['stem_length', 'leaf_cnt', 'stem_thick', 'ti_value']], ax=axes[0, 0])\n",
        "sns.boxplot(data=new_df[['ec_value', 'ph_value']], ax=axes[0, 1])\n",
        "sns.heatmap(new_df.corr(), annot=True, cmap='coolwarm', ax=axes[1, 0])\n",
        "plt.show()\n"
      ],
      "metadata": {
        "id": "ojzcYIbVIBFR"
      },
      "execution_count": null,
      "outputs": []
    },
    {
      "cell_type": "code",
      "source": [
        "from sklearn.model_selection import cross_val_score\n",
        "from sklearn.linear_model import LinearRegression, Ridge, Lasso\n",
        "from sklearn.ensemble import RandomForestRegressor, GradientBoostingRegressor\n",
        "import numpy as np\n",
        "from sklearn.model_selection import train_test_split\n",
        "\n",
        "X = new_df[['stem_length', 'leaf_cnt', 'stem_thick', 'ti_value']]\n",
        "y_ec = new_df['ec_value']\n",
        "y_ph = new_df['ph_value']\n",
        "\n",
        "X_train, X_test, y_ec_train, y_ec_test = train_test_split(X, y_ec, test_size=0.2, random_state=42)\n",
        "X_train, X_test, y_ph_train, y_ph_test = train_test_split(X, y_ph, test_size=0.2, random_state=42)\n",
        "\n",
        "models = {\n",
        "    \"Linear Regression\": LinearRegression(),\n",
        "    \"Ridge Regression\": Ridge(),\n",
        "    \"Lasso Regression\": Lasso(),\n",
        "    \"Random Forest\": RandomForestRegressor(),\n",
        "    \"Gradient Boosting\": GradientBoostingRegressor()\n",
        "}\n",
        "\n",
        "def evaluate_models(X_train, y_train):\n",
        "    for name, model in models.items():\n",
        "        scores = cross_val_score(model, X_train, y_train, cv=5, scoring='neg_mean_squared_error')\n",
        "        mse_scores = -scores\n",
        "        print(f'{name} 평균 제곱근 오차 (MSE): {mse_scores.mean():.2f}')\n",
        "\n",
        "print(\"EC 값 예측 모델 성능:\")\n",
        "evaluate_models(X_train, y_ec_train)\n",
        "\n",
        "print(\"\\nPH 값 예측 모델 성능:\")\n",
        "evaluate_models(X_train, y_ph_train)\n"
      ],
      "metadata": {
        "colab": {
          "base_uri": "https://localhost:8080/"
        },
        "id": "5NNuvcxzKpYv",
        "outputId": "6bedd58c-06fb-438d-f112-161a8c1094b9"
      },
      "execution_count": null,
      "outputs": [
        {
          "output_type": "stream",
          "name": "stdout",
          "text": [
            "EC 값 예측 모델 성능:\n",
            "Linear Regression 평균 제곱근 오차 (MSE): 0.03\n",
            "Ridge Regression 평균 제곱근 오차 (MSE): 0.03\n",
            "Lasso Regression 평균 제곱근 오차 (MSE): 0.04\n",
            "Random Forest 평균 제곱근 오차 (MSE): 0.03\n",
            "Gradient Boosting 평균 제곱근 오차 (MSE): 0.03\n",
            "\n",
            "PH 값 예측 모델 성능:\n",
            "Linear Regression 평균 제곱근 오차 (MSE): 0.06\n",
            "Ridge Regression 평균 제곱근 오차 (MSE): 0.06\n",
            "Lasso Regression 평균 제곱근 오차 (MSE): 0.06\n",
            "Random Forest 평균 제곱근 오차 (MSE): 0.05\n",
            "Gradient Boosting 평균 제곱근 오차 (MSE): 0.07\n"
          ]
        }
      ]
    },
    {
      "cell_type": "code",
      "source": [
        "from sklearn.metrics import mean_squared_error\n",
        "\n",
        "best_model_ec = RandomForestRegressor()\n",
        "best_model_ph = RandomForestRegressor()\n",
        "\n",
        "best_model_ec.fit(X_train, y_ec_train)\n",
        "best_model_ph.fit(X_train, y_ph_train)\n",
        "\n",
        "y_ec_pred = best_model_ec.predict(X_test)\n",
        "y_ph_pred = best_model_ph.predict(X_test)\n",
        "\n",
        "mse_ec = mean_squared_error(y_ec_test, y_ec_pred)\n",
        "mse_ph = mean_squared_error(y_ph_test, y_ph_pred)\n",
        "\n",
        "print('EC 값 예측 모델의 평균 제곱근 오차 (MSE):', mse_ec)\n",
        "print('PH 값 예측 모델의 평균 제곱근 오차 (MSE):', mse_ph)"
      ],
      "metadata": {
        "colab": {
          "base_uri": "https://localhost:8080/"
        },
        "id": "rqtXMMjKKppR",
        "outputId": "c45b6c57-a2ea-4166-d86e-d9ff81184d0d"
      },
      "execution_count": null,
      "outputs": [
        {
          "output_type": "stream",
          "name": "stdout",
          "text": [
            "EC 값 예측 모델의 평균 제곱근 오차 (MSE): 0.03951045277777779\n",
            "PH 값 예측 모델의 평균 제곱근 오차 (MSE): 0.07494527055555569\n"
          ]
        }
      ]
    },
    {
      "cell_type": "code",
      "source": [
        "import pandas as pd\n",
        "from sklearn.model_selection import train_test_split\n",
        "from sklearn.linear_model import LinearRegression, Ridge, Lasso\n",
        "from sklearn.ensemble import RandomForestRegressor, GradientBoostingRegressor\n",
        "from sklearn.preprocessing import StandardScaler\n",
        "from sklearn.metrics import mean_squared_error\n",
        "\n",
        "X = new_df[['stem_length', 'leaf_cnt', 'stem_thick', 'ti_value']]\n",
        "y_ec = new_df['ec_value']\n",
        "y_ph = new_df['ph_value']\n",
        "\n",
        "X_train, X_test, y_ec_train, y_ec_test = train_test_split(X, y_ec, test_size=0.2, random_state=42)\n",
        "X_train, X_test, y_ph_train, y_ph_test = train_test_split(X, y_ph, test_size=0.2, random_state=42)\n",
        "\n",
        "best_model_ec = GradientBoostingRegressor()\n",
        "best_model_ph = GradientBoostingRegressor()\n",
        "\n",
        "best_model_ec.fit(X_train, y_ec_train)\n",
        "best_model_ph.fit(X_train, y_ph_train)\n",
        "\n",
        "def recommend_nutrient(stem_length, leaf_cnt, stem_thick, ti_value):\n",
        "    input_data = pd.DataFrame([[stem_length, leaf_cnt, stem_thick, ti_value]], columns=['stem_length', 'leaf_cnt', 'stem_thick', 'ti_value'])\n",
        "    ec_value = best_model_ec.predict(input_data)[0]\n",
        "    ph_value = best_model_ph.predict(input_data)[0]\n",
        "\n",
        "    print(\"추천 양액 정보:\")\n",
        "    print(f\"  EC 값: {ec_value:.2f} dS/m\")\n",
        "    print(f\"  pH 값: {ph_value:.2f}\")\n",
        "\n",
        "while True:\n",
        "    try:\n",
        "        stem_length = float(input(\"초장 (cm): \"))\n",
        "        leaf_cnt = int(input(\"엽수 (개): \"))\n",
        "        stem_thick = float(input(\"관부직경 (mm): \"))\n",
        "        ti_value = float(input(\"일일 평균온도 (℃): \"))\n",
        "\n",
        "        recommend_nutrient(stem_length, leaf_cnt, stem_thick, ti_value)\n",
        "\n",
        "    except ValueError:\n",
        "        print(\"유효한 숫자를 입력해주세요.\")\n",
        "    except Exception as e:\n",
        "        print(f\"오류가 발생했습니다: {e}\")\n",
        "\n",
        "    cont = input(\"다른 데이터를 입력하시겠습니까? (y/n): \").strip().lower()\n",
        "    if cont != 'y':\n",
        "        break\n"
      ],
      "metadata": {
        "colab": {
          "base_uri": "https://localhost:8080/"
        },
        "id": "LlRvzLGpKykl",
        "outputId": "20a567db-7bd0-44be-f26f-f5ea46fe9f4a"
      },
      "execution_count": null,
      "outputs": [
        {
          "name": "stdout",
          "output_type": "stream",
          "text": [
            "초장 (cm): 17\n",
            "엽수 (개): 5\n",
            "관부직경 (mm): 12\n",
            "일일 평균온도 (℃): 17\n",
            "추천 양액 정보:\n",
            "  EC 값: 1.07 dS/m\n",
            "  pH 값: 5.83\n",
            "다른 데이터를 입력하시겠습니까? (y/n): n\n"
          ]
        }
      ]
    },
    {
      "cell_type": "markdown",
      "source": [
        "### api 연동"
      ],
      "metadata": {
        "id": "V1kLol2GJJU5"
      }
    },
    {
      "cell_type": "code",
      "source": [
        "import pickle\n",
        "from sklearn.ensemble import GradientBoostingRegressor\n",
        "\n",
        "models = {\n",
        "    \"ec_model\": best_model_ec,\n",
        "    \"ph_model\": best_model_ph\n",
        "}\n",
        "\n",
        "with open('best_models.pkl', 'wb') as file:\n",
        "    pickle.dump(models, file)\n"
      ],
      "metadata": {
        "id": "qtM90jzBLCBz"
      },
      "execution_count": null,
      "outputs": []
    },
    {
      "cell_type": "code",
      "source": [
        "from flask import Flask, request, jsonify\n",
        "import pickle\n",
        "import pandas as pd\n",
        "\n",
        "app = Flask(__name__)\n",
        "\n",
        "with open('best_models.pkl', 'rb') as file:\n",
        "    models = pickle.load(file)\n",
        "    ec_model = models['ec_model']\n",
        "    ph_model = models['ph_model']\n",
        "\n",
        "@app.route('/predict', methods=['POST'])\n",
        "def predict():\n",
        "    data = request.get_json(force=True)\n",
        "    stem_length = data['stem_length']\n",
        "    leaf_cnt = data['leaf_cnt']\n",
        "    stem_thick = data['stem_thick']\n",
        "    ti_value = data['ti_value']\n",
        "\n",
        "    input_data = pd.DataFrame([[stem_length, leaf_cnt, stem_thick, ti_value]],\n",
        "                              columns=['stem_length', 'leaf_cnt', 'stem_thick', 'ti_value'])\n",
        "\n",
        "    ec_value = ec_model.predict(input_data)[0]\n",
        "    ph_value = ph_model.predict(input_data)[0]\n",
        "\n",
        "    return jsonify({\n",
        "        'ec_value': ec_value,\n",
        "        'ph_value': ph_value\n",
        "    })\n",
        "\n",
        "if __name__ == '__main__':\n",
        "    app.run(debug=True)"
      ],
      "metadata": {
        "colab": {
          "base_uri": "https://localhost:8080/"
        },
        "id": "RGiMiuXnLE1l",
        "outputId": "18f92d91-8172-43b4-aa1b-b9ac331d98a5"
      },
      "execution_count": null,
      "outputs": [
        {
          "output_type": "stream",
          "name": "stdout",
          "text": [
            " * Serving Flask app '__main__'\n",
            " * Debug mode: on\n"
          ]
        },
        {
          "output_type": "stream",
          "name": "stderr",
          "text": [
            "INFO:werkzeug:\u001b[31m\u001b[1mWARNING: This is a development server. Do not use it in a production deployment. Use a production WSGI server instead.\u001b[0m\n",
            " * Running on http://127.0.0.1:5000\n",
            "INFO:werkzeug:\u001b[33mPress CTRL+C to quit\u001b[0m\n",
            "INFO:werkzeug: * Restarting with stat\n"
          ]
        }
      ]
    }
  ],
  "metadata": {
    "colab": {
      "provenance": [],
      "mount_file_id": "1excvbdAGRCeOVmyoWb_zMH4zwzSn62NB",
      "authorship_tag": "ABX9TyOZ16NApb75hdgNSLGyKLKT",
      "include_colab_link": true
    },
    "kernelspec": {
      "display_name": "Python 3",
      "name": "python3"
    },
    "language_info": {
      "name": "python"
    }
  },
  "nbformat": 4,
  "nbformat_minor": 0
}